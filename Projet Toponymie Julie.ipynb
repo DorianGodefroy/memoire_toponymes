{
 "cells": [
  {
   "cell_type": "markdown",
   "metadata": {},
   "source": [
    "# Projet : Corrélation entre toponymie et lieu géographique descommunes françaises : à la recherche de Triffouillis-les-Oies, Julie Fraval\n",
    "\n"
   ]
  },
  {
   "cell_type": "code",
   "execution_count": 1,
   "metadata": {},
   "outputs": [],
   "source": [
    "import pandas as pd\n",
    "import folium"
   ]
  },
  {
   "cell_type": "code",
   "execution_count": 2,
   "metadata": {},
   "outputs": [],
   "source": [
    "import numpy as np\n",
    "import os\n",
    "os.chdir(\"C:/Users/julie/OneDrive/Bureau\")"
   ]
  },
  {
   "cell_type": "code",
   "execution_count": 3,
   "metadata": {},
   "outputs": [],
   "source": [
    "from scipy import misc\n",
    "import scipy.stats as stats"
   ]
  },
  {
   "cell_type": "code",
   "execution_count": 4,
   "metadata": {},
   "outputs": [
    {
     "name": "stderr",
     "output_type": "stream",
     "text": [
      "C:\\Users\\julie\\AppData\\Roaming\\Python\\Python36\\site-packages\\statsmodels\\tools\\_testing.py:19: FutureWarning: pandas.util.testing is deprecated. Use the functions in the public API at pandas.testing instead.\n",
      "  import pandas.util.testing as tm\n"
     ]
    }
   ],
   "source": [
    "import statsmodels.api as sm"
   ]
  },
  {
   "cell_type": "code",
   "execution_count": 5,
   "metadata": {},
   "outputs": [
    {
     "data": {
      "text/html": [
       "<div>\n",
       "<style scoped>\n",
       "    .dataframe tbody tr th:only-of-type {\n",
       "        vertical-align: middle;\n",
       "    }\n",
       "\n",
       "    .dataframe tbody tr th {\n",
       "        vertical-align: top;\n",
       "    }\n",
       "\n",
       "    .dataframe thead th {\n",
       "        text-align: right;\n",
       "    }\n",
       "</style>\n",
       "<table border=\"1\" class=\"dataframe\">\n",
       "  <thead>\n",
       "    <tr style=\"text-align: right;\">\n",
       "      <th></th>\n",
       "      <th>insee</th>\n",
       "      <th>nom</th>\n",
       "      <th>altitude</th>\n",
       "      <th>code_postal</th>\n",
       "      <th>longitude</th>\n",
       "      <th>latitude</th>\n",
       "      <th>pop99</th>\n",
       "      <th>surface</th>\n",
       "      <th>departement</th>\n",
       "      <th>region</th>\n",
       "      <th>indicatif</th>\n",
       "    </tr>\n",
       "  </thead>\n",
       "  <tbody>\n",
       "    <tr>\n",
       "      <th>0</th>\n",
       "      <td>1001</td>\n",
       "      <td>l'abergement-clémenciat</td>\n",
       "      <td>257.0</td>\n",
       "      <td>1400</td>\n",
       "      <td>4.919167</td>\n",
       "      <td>46.152222</td>\n",
       "      <td>728</td>\n",
       "      <td>15.70</td>\n",
       "      <td>1</td>\n",
       "      <td>RA</td>\n",
       "      <td>4</td>\n",
       "    </tr>\n",
       "    <tr>\n",
       "      <th>1</th>\n",
       "      <td>1002</td>\n",
       "      <td>l'abergement-de-varey</td>\n",
       "      <td>367.0</td>\n",
       "      <td>1640</td>\n",
       "      <td>5.423889</td>\n",
       "      <td>46.007778</td>\n",
       "      <td>168</td>\n",
       "      <td>9.14</td>\n",
       "      <td>1</td>\n",
       "      <td>RA</td>\n",
       "      <td>4</td>\n",
       "    </tr>\n",
       "    <tr>\n",
       "      <th>2</th>\n",
       "      <td>1004</td>\n",
       "      <td>ambérieu-en-bugey</td>\n",
       "      <td>247.0</td>\n",
       "      <td>1500</td>\n",
       "      <td>5.348889</td>\n",
       "      <td>45.956112</td>\n",
       "      <td>11436</td>\n",
       "      <td>24.51</td>\n",
       "      <td>1</td>\n",
       "      <td>RA</td>\n",
       "      <td>4</td>\n",
       "    </tr>\n",
       "    <tr>\n",
       "      <th>3</th>\n",
       "      <td>1005</td>\n",
       "      <td>ambérieux-en-dombes</td>\n",
       "      <td>293.0</td>\n",
       "      <td>1330</td>\n",
       "      <td>4.904167</td>\n",
       "      <td>45.996113</td>\n",
       "      <td>1408</td>\n",
       "      <td>16.06</td>\n",
       "      <td>1</td>\n",
       "      <td>RA</td>\n",
       "      <td>4</td>\n",
       "    </tr>\n",
       "    <tr>\n",
       "      <th>4</th>\n",
       "      <td>1006</td>\n",
       "      <td>ambléon</td>\n",
       "      <td>400.0</td>\n",
       "      <td>1300</td>\n",
       "      <td>5.602222</td>\n",
       "      <td>45.750278</td>\n",
       "      <td>86</td>\n",
       "      <td>6.03</td>\n",
       "      <td>1</td>\n",
       "      <td>RA</td>\n",
       "      <td>4</td>\n",
       "    </tr>\n",
       "    <tr>\n",
       "      <th>...</th>\n",
       "      <td>...</td>\n",
       "      <td>...</td>\n",
       "      <td>...</td>\n",
       "      <td>...</td>\n",
       "      <td>...</td>\n",
       "      <td>...</td>\n",
       "      <td>...</td>\n",
       "      <td>...</td>\n",
       "      <td>...</td>\n",
       "      <td>...</td>\n",
       "      <td>...</td>\n",
       "    </tr>\n",
       "    <tr>\n",
       "      <th>36204</th>\n",
       "      <td>95676</td>\n",
       "      <td>villers-en-arthies</td>\n",
       "      <td>150.0</td>\n",
       "      <td>95510</td>\n",
       "      <td>1.726667</td>\n",
       "      <td>49.088890</td>\n",
       "      <td>426</td>\n",
       "      <td>8.43</td>\n",
       "      <td>95</td>\n",
       "      <td>IF</td>\n",
       "      <td>1</td>\n",
       "    </tr>\n",
       "    <tr>\n",
       "      <th>36205</th>\n",
       "      <td>95678</td>\n",
       "      <td>villiers-adam</td>\n",
       "      <td>130.0</td>\n",
       "      <td>95840</td>\n",
       "      <td>2.235278</td>\n",
       "      <td>49.063057</td>\n",
       "      <td>775</td>\n",
       "      <td>9.89</td>\n",
       "      <td>95</td>\n",
       "      <td>IF</td>\n",
       "      <td>1</td>\n",
       "    </tr>\n",
       "    <tr>\n",
       "      <th>36206</th>\n",
       "      <td>95680</td>\n",
       "      <td>villiers-le-bel</td>\n",
       "      <td>104.0</td>\n",
       "      <td>95400</td>\n",
       "      <td>2.389167</td>\n",
       "      <td>49.005833</td>\n",
       "      <td>26145</td>\n",
       "      <td>7.27</td>\n",
       "      <td>95</td>\n",
       "      <td>IF</td>\n",
       "      <td>1</td>\n",
       "    </tr>\n",
       "    <tr>\n",
       "      <th>36207</th>\n",
       "      <td>95682</td>\n",
       "      <td>villiers-le-sec</td>\n",
       "      <td>130.0</td>\n",
       "      <td>95720</td>\n",
       "      <td>2.390833</td>\n",
       "      <td>49.071388</td>\n",
       "      <td>168</td>\n",
       "      <td>3.21</td>\n",
       "      <td>95</td>\n",
       "      <td>IF</td>\n",
       "      <td>1</td>\n",
       "    </tr>\n",
       "    <tr>\n",
       "      <th>36208</th>\n",
       "      <td>95690</td>\n",
       "      <td>wy-dit-joli-village</td>\n",
       "      <td>125.0</td>\n",
       "      <td>95420</td>\n",
       "      <td>1.835000</td>\n",
       "      <td>49.103889</td>\n",
       "      <td>307</td>\n",
       "      <td>8.44</td>\n",
       "      <td>95</td>\n",
       "      <td>IF</td>\n",
       "      <td>1</td>\n",
       "    </tr>\n",
       "  </tbody>\n",
       "</table>\n",
       "<p>36209 rows × 11 columns</p>\n",
       "</div>"
      ],
      "text/plain": [
       "       insee                      nom  altitude code_postal  longitude  \\\n",
       "0       1001  l'abergement-clémenciat     257.0        1400   4.919167   \n",
       "1       1002    l'abergement-de-varey     367.0        1640   5.423889   \n",
       "2       1004        ambérieu-en-bugey     247.0        1500   5.348889   \n",
       "3       1005      ambérieux-en-dombes     293.0        1330   4.904167   \n",
       "4       1006                  ambléon     400.0        1300   5.602222   \n",
       "...      ...                      ...       ...         ...        ...   \n",
       "36204  95676       villers-en-arthies     150.0       95510   1.726667   \n",
       "36205  95678            villiers-adam     130.0       95840   2.235278   \n",
       "36206  95680          villiers-le-bel     104.0       95400   2.389167   \n",
       "36207  95682          villiers-le-sec     130.0       95720   2.390833   \n",
       "36208  95690      wy-dit-joli-village     125.0       95420   1.835000   \n",
       "\n",
       "        latitude  pop99  surface  departement region  indicatif  \n",
       "0      46.152222    728    15.70            1     RA          4  \n",
       "1      46.007778    168     9.14            1     RA          4  \n",
       "2      45.956112  11436    24.51            1     RA          4  \n",
       "3      45.996113   1408    16.06            1     RA          4  \n",
       "4      45.750278     86     6.03            1     RA          4  \n",
       "...          ...    ...      ...          ...    ...        ...  \n",
       "36204  49.088890    426     8.43           95     IF          1  \n",
       "36205  49.063057    775     9.89           95     IF          1  \n",
       "36206  49.005833  26145     7.27           95     IF          1  \n",
       "36207  49.071388    168     3.21           95     IF          1  \n",
       "36208  49.103889    307     8.44           95     IF          1  \n",
       "\n",
       "[36209 rows x 11 columns]"
      ]
     },
     "execution_count": 5,
     "metadata": {},
     "output_type": "execute_result"
    }
   ],
   "source": [
    "df = pd.read_csv(\n",
    "    \"data2011.csv\", sep=\"\\t\",encoding=\"latin-1\")\n",
    "\n",
    "df[\"latitude\"]=df[\"latitude\"]*180/np.pi\n",
    "df[\"longitude\"]=df[\"longitude\"]*180/np.pi\n",
    "df[\"nom\"] = df[\"nom\"].map(str.lower)\n",
    "\n",
    "df"
   ]
  },
  {
   "cell_type": "markdown",
   "metadata": {},
   "source": [
    "# Partie 1 : régression linéaire\n"
   ]
  },
  {
   "cell_type": "code",
   "execution_count": 6,
   "metadata": {},
   "outputs": [
    {
     "data": {
      "text/html": [
       "<div>\n",
       "<style scoped>\n",
       "    .dataframe tbody tr th:only-of-type {\n",
       "        vertical-align: middle;\n",
       "    }\n",
       "\n",
       "    .dataframe tbody tr th {\n",
       "        vertical-align: top;\n",
       "    }\n",
       "\n",
       "    .dataframe thead th {\n",
       "        text-align: right;\n",
       "    }\n",
       "</style>\n",
       "<table border=\"1\" class=\"dataframe\">\n",
       "  <thead>\n",
       "    <tr style=\"text-align: right;\">\n",
       "      <th></th>\n",
       "      <th>A</th>\n",
       "      <th>À</th>\n",
       "      <th>B</th>\n",
       "      <th>C</th>\n",
       "      <th>Ç</th>\n",
       "      <th>D</th>\n",
       "      <th>E</th>\n",
       "      <th>É</th>\n",
       "      <th>È</th>\n",
       "      <th>Ê</th>\n",
       "      <th>...</th>\n",
       "      <th>T</th>\n",
       "      <th>U</th>\n",
       "      <th>Û</th>\n",
       "      <th>V</th>\n",
       "      <th>W</th>\n",
       "      <th>X</th>\n",
       "      <th>Y</th>\n",
       "      <th>Z</th>\n",
       "      <th>-</th>\n",
       "      <th>Longueur</th>\n",
       "    </tr>\n",
       "  </thead>\n",
       "  <tbody>\n",
       "    <tr>\n",
       "      <th>0</th>\n",
       "      <td>2</td>\n",
       "      <td>0</td>\n",
       "      <td>1</td>\n",
       "      <td>2</td>\n",
       "      <td>0</td>\n",
       "      <td>0</td>\n",
       "      <td>4</td>\n",
       "      <td>1</td>\n",
       "      <td>0</td>\n",
       "      <td>0</td>\n",
       "      <td>...</td>\n",
       "      <td>2</td>\n",
       "      <td>0</td>\n",
       "      <td>0</td>\n",
       "      <td>0</td>\n",
       "      <td>0</td>\n",
       "      <td>0</td>\n",
       "      <td>0</td>\n",
       "      <td>0</td>\n",
       "      <td>1</td>\n",
       "      <td>23</td>\n",
       "    </tr>\n",
       "    <tr>\n",
       "      <th>1</th>\n",
       "      <td>2</td>\n",
       "      <td>0</td>\n",
       "      <td>1</td>\n",
       "      <td>0</td>\n",
       "      <td>0</td>\n",
       "      <td>1</td>\n",
       "      <td>5</td>\n",
       "      <td>0</td>\n",
       "      <td>0</td>\n",
       "      <td>0</td>\n",
       "      <td>...</td>\n",
       "      <td>1</td>\n",
       "      <td>0</td>\n",
       "      <td>0</td>\n",
       "      <td>1</td>\n",
       "      <td>0</td>\n",
       "      <td>0</td>\n",
       "      <td>1</td>\n",
       "      <td>0</td>\n",
       "      <td>2</td>\n",
       "      <td>21</td>\n",
       "    </tr>\n",
       "    <tr>\n",
       "      <th>2</th>\n",
       "      <td>1</td>\n",
       "      <td>0</td>\n",
       "      <td>2</td>\n",
       "      <td>0</td>\n",
       "      <td>0</td>\n",
       "      <td>0</td>\n",
       "      <td>3</td>\n",
       "      <td>1</td>\n",
       "      <td>0</td>\n",
       "      <td>0</td>\n",
       "      <td>...</td>\n",
       "      <td>0</td>\n",
       "      <td>2</td>\n",
       "      <td>0</td>\n",
       "      <td>0</td>\n",
       "      <td>0</td>\n",
       "      <td>0</td>\n",
       "      <td>1</td>\n",
       "      <td>0</td>\n",
       "      <td>2</td>\n",
       "      <td>17</td>\n",
       "    </tr>\n",
       "    <tr>\n",
       "      <th>3</th>\n",
       "      <td>1</td>\n",
       "      <td>0</td>\n",
       "      <td>2</td>\n",
       "      <td>0</td>\n",
       "      <td>0</td>\n",
       "      <td>1</td>\n",
       "      <td>3</td>\n",
       "      <td>1</td>\n",
       "      <td>0</td>\n",
       "      <td>0</td>\n",
       "      <td>...</td>\n",
       "      <td>0</td>\n",
       "      <td>1</td>\n",
       "      <td>0</td>\n",
       "      <td>0</td>\n",
       "      <td>0</td>\n",
       "      <td>1</td>\n",
       "      <td>0</td>\n",
       "      <td>0</td>\n",
       "      <td>2</td>\n",
       "      <td>19</td>\n",
       "    </tr>\n",
       "    <tr>\n",
       "      <th>4</th>\n",
       "      <td>1</td>\n",
       "      <td>0</td>\n",
       "      <td>1</td>\n",
       "      <td>0</td>\n",
       "      <td>0</td>\n",
       "      <td>0</td>\n",
       "      <td>0</td>\n",
       "      <td>1</td>\n",
       "      <td>0</td>\n",
       "      <td>0</td>\n",
       "      <td>...</td>\n",
       "      <td>0</td>\n",
       "      <td>0</td>\n",
       "      <td>0</td>\n",
       "      <td>0</td>\n",
       "      <td>0</td>\n",
       "      <td>0</td>\n",
       "      <td>0</td>\n",
       "      <td>0</td>\n",
       "      <td>0</td>\n",
       "      <td>7</td>\n",
       "    </tr>\n",
       "    <tr>\n",
       "      <th>...</th>\n",
       "      <td>...</td>\n",
       "      <td>...</td>\n",
       "      <td>...</td>\n",
       "      <td>...</td>\n",
       "      <td>...</td>\n",
       "      <td>...</td>\n",
       "      <td>...</td>\n",
       "      <td>...</td>\n",
       "      <td>...</td>\n",
       "      <td>...</td>\n",
       "      <td>...</td>\n",
       "      <td>...</td>\n",
       "      <td>...</td>\n",
       "      <td>...</td>\n",
       "      <td>...</td>\n",
       "      <td>...</td>\n",
       "      <td>...</td>\n",
       "      <td>...</td>\n",
       "      <td>...</td>\n",
       "      <td>...</td>\n",
       "      <td>...</td>\n",
       "    </tr>\n",
       "    <tr>\n",
       "      <th>36204</th>\n",
       "      <td>1</td>\n",
       "      <td>0</td>\n",
       "      <td>0</td>\n",
       "      <td>0</td>\n",
       "      <td>0</td>\n",
       "      <td>0</td>\n",
       "      <td>3</td>\n",
       "      <td>0</td>\n",
       "      <td>0</td>\n",
       "      <td>0</td>\n",
       "      <td>...</td>\n",
       "      <td>1</td>\n",
       "      <td>0</td>\n",
       "      <td>0</td>\n",
       "      <td>1</td>\n",
       "      <td>0</td>\n",
       "      <td>0</td>\n",
       "      <td>0</td>\n",
       "      <td>0</td>\n",
       "      <td>2</td>\n",
       "      <td>18</td>\n",
       "    </tr>\n",
       "    <tr>\n",
       "      <th>36205</th>\n",
       "      <td>2</td>\n",
       "      <td>0</td>\n",
       "      <td>0</td>\n",
       "      <td>0</td>\n",
       "      <td>0</td>\n",
       "      <td>1</td>\n",
       "      <td>1</td>\n",
       "      <td>0</td>\n",
       "      <td>0</td>\n",
       "      <td>0</td>\n",
       "      <td>...</td>\n",
       "      <td>0</td>\n",
       "      <td>0</td>\n",
       "      <td>0</td>\n",
       "      <td>1</td>\n",
       "      <td>0</td>\n",
       "      <td>0</td>\n",
       "      <td>0</td>\n",
       "      <td>0</td>\n",
       "      <td>1</td>\n",
       "      <td>13</td>\n",
       "    </tr>\n",
       "    <tr>\n",
       "      <th>36206</th>\n",
       "      <td>0</td>\n",
       "      <td>0</td>\n",
       "      <td>1</td>\n",
       "      <td>0</td>\n",
       "      <td>0</td>\n",
       "      <td>0</td>\n",
       "      <td>3</td>\n",
       "      <td>0</td>\n",
       "      <td>0</td>\n",
       "      <td>0</td>\n",
       "      <td>...</td>\n",
       "      <td>0</td>\n",
       "      <td>0</td>\n",
       "      <td>0</td>\n",
       "      <td>1</td>\n",
       "      <td>0</td>\n",
       "      <td>0</td>\n",
       "      <td>0</td>\n",
       "      <td>0</td>\n",
       "      <td>2</td>\n",
       "      <td>15</td>\n",
       "    </tr>\n",
       "    <tr>\n",
       "      <th>36207</th>\n",
       "      <td>0</td>\n",
       "      <td>0</td>\n",
       "      <td>0</td>\n",
       "      <td>1</td>\n",
       "      <td>0</td>\n",
       "      <td>0</td>\n",
       "      <td>3</td>\n",
       "      <td>0</td>\n",
       "      <td>0</td>\n",
       "      <td>0</td>\n",
       "      <td>...</td>\n",
       "      <td>0</td>\n",
       "      <td>0</td>\n",
       "      <td>0</td>\n",
       "      <td>1</td>\n",
       "      <td>0</td>\n",
       "      <td>0</td>\n",
       "      <td>0</td>\n",
       "      <td>0</td>\n",
       "      <td>2</td>\n",
       "      <td>15</td>\n",
       "    </tr>\n",
       "    <tr>\n",
       "      <th>36208</th>\n",
       "      <td>1</td>\n",
       "      <td>0</td>\n",
       "      <td>0</td>\n",
       "      <td>0</td>\n",
       "      <td>0</td>\n",
       "      <td>1</td>\n",
       "      <td>1</td>\n",
       "      <td>0</td>\n",
       "      <td>0</td>\n",
       "      <td>0</td>\n",
       "      <td>...</td>\n",
       "      <td>1</td>\n",
       "      <td>0</td>\n",
       "      <td>0</td>\n",
       "      <td>1</td>\n",
       "      <td>1</td>\n",
       "      <td>0</td>\n",
       "      <td>1</td>\n",
       "      <td>0</td>\n",
       "      <td>3</td>\n",
       "      <td>19</td>\n",
       "    </tr>\n",
       "  </tbody>\n",
       "</table>\n",
       "<p>36209 rows × 38 columns</p>\n",
       "</div>"
      ],
      "text/plain": [
       "       A  À  B  C  Ç  D  E  É  È  Ê  ...  T  U  Û  V  W  X  Y  Z  -  Longueur\n",
       "0      2  0  1  2  0  0  4  1  0  0  ...  2  0  0  0  0  0  0  0  1        23\n",
       "1      2  0  1  0  0  1  5  0  0  0  ...  1  0  0  1  0  0  1  0  2        21\n",
       "2      1  0  2  0  0  0  3  1  0  0  ...  0  2  0  0  0  0  1  0  2        17\n",
       "3      1  0  2  0  0  1  3  1  0  0  ...  0  1  0  0  0  1  0  0  2        19\n",
       "4      1  0  1  0  0  0  0  1  0  0  ...  0  0  0  0  0  0  0  0  0         7\n",
       "...   .. .. .. .. .. .. .. .. .. ..  ... .. .. .. .. .. .. .. .. ..       ...\n",
       "36204  1  0  0  0  0  0  3  0  0  0  ...  1  0  0  1  0  0  0  0  2        18\n",
       "36205  2  0  0  0  0  1  1  0  0  0  ...  0  0  0  1  0  0  0  0  1        13\n",
       "36206  0  0  1  0  0  0  3  0  0  0  ...  0  0  0  1  0  0  0  0  2        15\n",
       "36207  0  0  0  1  0  0  3  0  0  0  ...  0  0  0  1  0  0  0  0  2        15\n",
       "36208  1  0  0  0  0  1  1  0  0  0  ...  1  0  0  1  1  0  1  0  3        19\n",
       "\n",
       "[36209 rows x 38 columns]"
      ]
     },
     "execution_count": 6,
     "metadata": {},
     "output_type": "execute_result"
    }
   ],
   "source": [
    "alphabet = [\"a\", \"à\", \"b\", \"c\", \"ç\", \"d\", \"e\", \"é\", \"è\", \"ê\", \"ë\", \"f\", \"g\", \"h\", \"i\",\"ï\", \"î\",\"j\", \"k\", \"l\", \"m\",\n",
    "            \"n\", \"o\", \"ô\", \"ö\", \"p\", \"q\", \"r\", \"s\", \"t\", \"u\", \"û\", \"v\", \"w\", \"x\", \"y\", \"z\", \" \", \"-\"]\n",
    "\n",
    "df_letters = pd.DataFrame()\n",
    "\n",
    "#Occurence des lettres\n",
    "\n",
    "for letter in alphabet :\n",
    "    \n",
    "    df_current = df[\"nom\"].str.count(letter) \n",
    "    #Notre filtre count les occurrences de chaque lettre\n",
    " \n",
    "    df_current.rename(letter.upper(), inplace=True)\n",
    "    #Rebaptisation de la colonne\n",
    "    \n",
    "    if df_current.sum()!= 0:\n",
    "         df_letters = pd.concat([df_letters, df_current], axis=\"columns\")\n",
    "        #concaténation de la dataframe par rapport aux colonnes\n",
    "\n",
    "# longueur du nom\n",
    "df_current = df[\"nom\"].str.len() \n",
    "df_current.rename(\"Longueur\", inplace=True)\n",
    "df_letters = pd.concat ([df_letters, df_current], axis=\"columns\")\n",
    "\n",
    "df_letters\n"
   ]
  },
  {
   "cell_type": "code",
   "execution_count": 7,
   "metadata": {},
   "outputs": [
    {
     "name": "stdout",
     "output_type": "stream",
     "text": [
      "[[ 0  0  0  0  0  0  2  0  0  0  0  2  0  0  4  0  0  0  0  3  0  0  2  0\n",
      "   0  0  1  3  1  1  0  0  0  0  0  0  2 21]]\n"
     ]
    }
   ],
   "source": [
    "alphabet = [\"a\",\"à\", \"b\", \"c\", \"ç\", \"d\", \"e\",\"é\",\"è\",\"ê\",\"ë\",\"f\", \"g\", \"h\", \"i\",\"ï\", \"î\", \"j\", \"k\", \"l\", \"m\",\n",
    "            \"n\", \"o\", \"ô\", \"ö\", \"p\", \"q\", \"r\", \"s\", \"t\", \"u\", \"û\", \"v\", \"w\", \"x\", \"y\", \"z\", \" \", \"-\"]\n",
    "\n",
    "def from_word_to_vect(word,alphabet) :\n",
    "    a = list()\n",
    "   \n",
    "    for letter in list(alphabet) :\n",
    "        a.append(word.lower().count(letter.lower()))\n",
    "        \n",
    "    a[-1] = len(word)  \n",
    "    return(np.array([a]))\n",
    "\n",
    "Xcommune = from_word_to_vect('Triffouillis-les-Oies',list(df_letters))\n",
    "print(Xcommune)"
   ]
  },
  {
   "cell_type": "code",
   "execution_count": 8,
   "metadata": {},
   "outputs": [],
   "source": [
    "y = df[\"latitude\"] #mettre logitude à la place de latitude pour traiter la régression sur la longitude"
   ]
  },
  {
   "cell_type": "code",
   "execution_count": 9,
   "metadata": {},
   "outputs": [
    {
     "name": "stdout",
     "output_type": "stream",
     "text": [
      "4.048124566510558\n",
      "0.13678752034006159\n"
     ]
    }
   ],
   "source": [
    "from sklearn.linear_model import LinearRegression\n",
    "from sklearn.metrics import mean_squared_error as mse\n",
    "\n",
    "X=df_letters\n",
    "from sklearn.model_selection import train_test_split\n",
    "X_train, X_test, y_train, y_test = train_test_split(X, y, test_size=0.2, random_state=0)\n",
    "Lr= LinearRegression()\n",
    "Lr = Lr.fit(X_train, y_train)\n",
    "y_pred= Lr.predict(X_test)\n",
    "print(mse(y_pred,y_test))\n",
    "print(Lr.score(X_test,y_test))"
   ]
  },
  {
   "cell_type": "code",
   "execution_count": 50,
   "metadata": {},
   "outputs": [
    {
     "name": "stdout",
     "output_type": "stream",
     "text": [
      "[48.3654279]\n"
     ]
    }
   ],
   "source": [
    "latitude=Lr.predict(Xcommune)\n",
    "print(latitude)"
   ]
  },
  {
   "cell_type": "code",
   "execution_count": 51,
   "metadata": {},
   "outputs": [],
   "source": [
    "A=Xcommune.dot(np.linalg.inv(np.transpose(X_train.to_numpy()).dot(X_train.to_numpy()))).dot(np.transpose(Xcommune))\n",
    "n= len(X_train)\n",
    "p= len(X_train.columns)\n",
    "q=stats.t.ppf(1-0.4/2, df= n-p)\n",
    "ICmax = Lr.predict(Xcommune)[0] + q * np.sqrt(mse(y_pred,y_test)*(1+A[0][0]))\n",
    "ICmin = Lr.predict(Xcommune)[0] - q * np.sqrt(mse(y_pred,y_test)*(1+A[0][0]))"
   ]
  },
  {
   "cell_type": "code",
   "execution_count": 52,
   "metadata": {},
   "outputs": [
    {
     "name": "stdout",
     "output_type": "stream",
     "text": [
      "[46.670003159435396, 50.0608526313506]\n"
     ]
    }
   ],
   "source": [
    "print([ICmin, ICmax])"
   ]
  },
  {
   "cell_type": "code",
   "execution_count": 53,
   "metadata": {
    "scrolled": false
   },
   "outputs": [
    {
     "data": {
      "text/html": [
       "<div style=\"width:100%;\"><div style=\"position:relative;width:100%;height:0;padding-bottom:60%;\"><span style=\"color:#565656\">Make this Notebook Trusted to load map: File -> Trust Notebook</span><iframe src=\"about:blank\" style=\"position:absolute;width:100%;height:100%;left:0;top:0;border:none !important;\" data-html=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 onload=\"this.contentDocument.open();this.contentDocument.write(atob(this.getAttribute('data-html')));this.contentDocument.close();\" allowfullscreen webkitallowfullscreen mozallowfullscreen></iframe></div></div>"
      ],
      "text/plain": [
       "<folium.folium.Map at 0x1d003e53470>"
      ]
     },
     "execution_count": 53,
     "metadata": {},
     "output_type": "execute_result"
    }
   ],
   "source": [
    "#Code utiliser pour obtenir les cartes avec la prédiction et son intervalle de prédiction\n",
    "\n",
    "france = folium.Map(location=[46.856578,2.351828], zoom_start=6)\n",
    "folium.Marker([49.35181062, 2.10656595], \"X\").add_to(france)\n",
    "\n",
    "folium.CircleMarker(\n",
    "    location=[47.78587995915951, 4.196135771155455],\n",
    "    radius=1,\n",
    "    fill=True,\n",
    "    fill_color=\"#3186cc\",\n",
    ").add_to(france)\n",
    "\n",
    "folium.CircleMarker(\n",
    "    location=[47.78587995915951, 0.22194362100170206],\n",
    "    radius=1,\n",
    "    fill=True,\n",
    "    fill_color=\"#3186cc\",\n",
    ").add_to(france)\n",
    "\n",
    "folium.CircleMarker(\n",
    "    location=[50.91774128901044, 0.22194362100170206],\n",
    "    radius=1,\n",
    "    fill=True,\n",
    "    fill_color=\"#3186cc\",\n",
    ").add_to(france)\n",
    "\n",
    "folium.CircleMarker(\n",
    "    location=[50.91774128901044, 4.196135771155455],\n",
    "    radius=1,\n",
    "    fill=True,\n",
    "    fill_color=\"#3186cc\",\n",
    ").add_to(france)\n",
    "\n",
    "france"
   ]
  },
  {
   "cell_type": "markdown",
   "metadata": {},
   "source": [
    "## Modèle avec interractions"
   ]
  },
  {
   "cell_type": "code",
   "execution_count": 54,
   "metadata": {},
   "outputs": [
    {
     "data": {
      "text/plain": [
       "array([[ 2.,  0.,  1., ...,  0.,  0., 23.],\n",
       "       [ 2.,  0.,  1., ...,  0.,  0., 42.],\n",
       "       [ 1.,  0.,  2., ...,  0.,  0., 34.],\n",
       "       ...,\n",
       "       [ 0.,  0.,  1., ...,  0.,  0., 30.],\n",
       "       [ 0.,  0.,  0., ...,  0.,  0., 30.],\n",
       "       [ 1.,  0.,  0., ...,  0.,  0., 57.]])"
      ]
     },
     "execution_count": 54,
     "metadata": {},
     "output_type": "execute_result"
    }
   ],
   "source": [
    "from sklearn.preprocessing import PolynomialFeatures\n",
    "poly = PolynomialFeatures(interaction_only=True,include_bias = False)\n",
    "poly.fit_transform(df_letters)"
   ]
  },
  {
   "cell_type": "code",
   "execution_count": 55,
   "metadata": {},
   "outputs": [],
   "source": [
    "Xpoly = PolynomialFeatures(interaction_only=True,include_bias = False)\n",
    "Xlat = Xpoly.fit_transform(Xcommune)"
   ]
  },
  {
   "cell_type": "code",
   "execution_count": 56,
   "metadata": {},
   "outputs": [
    {
     "name": "stdout",
     "output_type": "stream",
     "text": [
      "['a', 'à', 'b', 'c', 'ç', 'd', 'e', 'é', 'è', 'ê', 'ë', 'f', 'g', 'h', 'i', 'ï', 'î', 'j', 'k', 'l', 'm', 'n', 'o', 'ô', 'ö', 'p', 'q', 'r', 's', 't', 'u', 'û', 'v', 'w', 'x', 'y', 'z', ' ', '-', 'longueur']\n"
     ]
    },
    {
     "data": {
      "text/plain": [
       "741"
      ]
     },
     "execution_count": 56,
     "metadata": {},
     "output_type": "execute_result"
    }
   ],
   "source": [
    "alphabet.append(\"longueur\")\n",
    "print(alphabet)\n",
    "def interractions(liste):\n",
    "    interractions=list()\n",
    "    for i in range(len(liste)) : \n",
    "        for j in range(i) :\n",
    "                interractions.append(liste[i]+liste[j])\n",
    "    return(interractions)  \n",
    "\n",
    "covariables = list(df_letters) + interractions(list(df_letters))\n",
    "len(covariables)    \n",
    "   "
   ]
  },
  {
   "cell_type": "code",
   "execution_count": 57,
   "metadata": {
    "scrolled": true
   },
   "outputs": [
    {
     "data": {
      "text/html": [
       "<div>\n",
       "<style scoped>\n",
       "    .dataframe tbody tr th:only-of-type {\n",
       "        vertical-align: middle;\n",
       "    }\n",
       "\n",
       "    .dataframe tbody tr th {\n",
       "        vertical-align: top;\n",
       "    }\n",
       "\n",
       "    .dataframe thead th {\n",
       "        text-align: right;\n",
       "    }\n",
       "</style>\n",
       "<table border=\"1\" class=\"dataframe\">\n",
       "  <thead>\n",
       "    <tr style=\"text-align: right;\">\n",
       "      <th></th>\n",
       "      <th>A</th>\n",
       "      <th>À</th>\n",
       "      <th>B</th>\n",
       "      <th>C</th>\n",
       "      <th>Ç</th>\n",
       "      <th>D</th>\n",
       "      <th>E</th>\n",
       "      <th>É</th>\n",
       "      <th>È</th>\n",
       "      <th>Ê</th>\n",
       "      <th>...</th>\n",
       "      <th>LongueurS</th>\n",
       "      <th>LongueurT</th>\n",
       "      <th>LongueurU</th>\n",
       "      <th>LongueurÛ</th>\n",
       "      <th>LongueurV</th>\n",
       "      <th>LongueurW</th>\n",
       "      <th>LongueurX</th>\n",
       "      <th>LongueurY</th>\n",
       "      <th>LongueurZ</th>\n",
       "      <th>Longueur-</th>\n",
       "    </tr>\n",
       "  </thead>\n",
       "  <tbody>\n",
       "    <tr>\n",
       "      <th>0</th>\n",
       "      <td>2.0</td>\n",
       "      <td>0.0</td>\n",
       "      <td>1.0</td>\n",
       "      <td>2.0</td>\n",
       "      <td>0.0</td>\n",
       "      <td>0.0</td>\n",
       "      <td>4.0</td>\n",
       "      <td>1.0</td>\n",
       "      <td>0.0</td>\n",
       "      <td>0.0</td>\n",
       "      <td>...</td>\n",
       "      <td>0.0</td>\n",
       "      <td>0.0</td>\n",
       "      <td>0.0</td>\n",
       "      <td>0.0</td>\n",
       "      <td>0.0</td>\n",
       "      <td>0.0</td>\n",
       "      <td>0.0</td>\n",
       "      <td>0.0</td>\n",
       "      <td>0.0</td>\n",
       "      <td>23.0</td>\n",
       "    </tr>\n",
       "    <tr>\n",
       "      <th>1</th>\n",
       "      <td>2.0</td>\n",
       "      <td>0.0</td>\n",
       "      <td>1.0</td>\n",
       "      <td>0.0</td>\n",
       "      <td>0.0</td>\n",
       "      <td>1.0</td>\n",
       "      <td>5.0</td>\n",
       "      <td>0.0</td>\n",
       "      <td>0.0</td>\n",
       "      <td>0.0</td>\n",
       "      <td>...</td>\n",
       "      <td>0.0</td>\n",
       "      <td>0.0</td>\n",
       "      <td>0.0</td>\n",
       "      <td>0.0</td>\n",
       "      <td>0.0</td>\n",
       "      <td>2.0</td>\n",
       "      <td>21.0</td>\n",
       "      <td>0.0</td>\n",
       "      <td>0.0</td>\n",
       "      <td>42.0</td>\n",
       "    </tr>\n",
       "    <tr>\n",
       "      <th>2</th>\n",
       "      <td>1.0</td>\n",
       "      <td>0.0</td>\n",
       "      <td>2.0</td>\n",
       "      <td>0.0</td>\n",
       "      <td>0.0</td>\n",
       "      <td>0.0</td>\n",
       "      <td>3.0</td>\n",
       "      <td>1.0</td>\n",
       "      <td>0.0</td>\n",
       "      <td>0.0</td>\n",
       "      <td>...</td>\n",
       "      <td>0.0</td>\n",
       "      <td>0.0</td>\n",
       "      <td>0.0</td>\n",
       "      <td>0.0</td>\n",
       "      <td>0.0</td>\n",
       "      <td>2.0</td>\n",
       "      <td>17.0</td>\n",
       "      <td>0.0</td>\n",
       "      <td>0.0</td>\n",
       "      <td>34.0</td>\n",
       "    </tr>\n",
       "    <tr>\n",
       "      <th>3</th>\n",
       "      <td>1.0</td>\n",
       "      <td>0.0</td>\n",
       "      <td>2.0</td>\n",
       "      <td>0.0</td>\n",
       "      <td>0.0</td>\n",
       "      <td>1.0</td>\n",
       "      <td>3.0</td>\n",
       "      <td>1.0</td>\n",
       "      <td>0.0</td>\n",
       "      <td>0.0</td>\n",
       "      <td>...</td>\n",
       "      <td>0.0</td>\n",
       "      <td>0.0</td>\n",
       "      <td>2.0</td>\n",
       "      <td>19.0</td>\n",
       "      <td>0.0</td>\n",
       "      <td>0.0</td>\n",
       "      <td>0.0</td>\n",
       "      <td>0.0</td>\n",
       "      <td>0.0</td>\n",
       "      <td>38.0</td>\n",
       "    </tr>\n",
       "    <tr>\n",
       "      <th>4</th>\n",
       "      <td>1.0</td>\n",
       "      <td>0.0</td>\n",
       "      <td>1.0</td>\n",
       "      <td>0.0</td>\n",
       "      <td>0.0</td>\n",
       "      <td>0.0</td>\n",
       "      <td>0.0</td>\n",
       "      <td>1.0</td>\n",
       "      <td>0.0</td>\n",
       "      <td>0.0</td>\n",
       "      <td>...</td>\n",
       "      <td>0.0</td>\n",
       "      <td>0.0</td>\n",
       "      <td>0.0</td>\n",
       "      <td>0.0</td>\n",
       "      <td>0.0</td>\n",
       "      <td>0.0</td>\n",
       "      <td>0.0</td>\n",
       "      <td>0.0</td>\n",
       "      <td>0.0</td>\n",
       "      <td>0.0</td>\n",
       "    </tr>\n",
       "    <tr>\n",
       "      <th>...</th>\n",
       "      <td>...</td>\n",
       "      <td>...</td>\n",
       "      <td>...</td>\n",
       "      <td>...</td>\n",
       "      <td>...</td>\n",
       "      <td>...</td>\n",
       "      <td>...</td>\n",
       "      <td>...</td>\n",
       "      <td>...</td>\n",
       "      <td>...</td>\n",
       "      <td>...</td>\n",
       "      <td>...</td>\n",
       "      <td>...</td>\n",
       "      <td>...</td>\n",
       "      <td>...</td>\n",
       "      <td>...</td>\n",
       "      <td>...</td>\n",
       "      <td>...</td>\n",
       "      <td>...</td>\n",
       "      <td>...</td>\n",
       "      <td>...</td>\n",
       "    </tr>\n",
       "    <tr>\n",
       "      <th>36204</th>\n",
       "      <td>1.0</td>\n",
       "      <td>0.0</td>\n",
       "      <td>0.0</td>\n",
       "      <td>0.0</td>\n",
       "      <td>0.0</td>\n",
       "      <td>0.0</td>\n",
       "      <td>3.0</td>\n",
       "      <td>0.0</td>\n",
       "      <td>0.0</td>\n",
       "      <td>0.0</td>\n",
       "      <td>...</td>\n",
       "      <td>0.0</td>\n",
       "      <td>0.0</td>\n",
       "      <td>0.0</td>\n",
       "      <td>0.0</td>\n",
       "      <td>0.0</td>\n",
       "      <td>0.0</td>\n",
       "      <td>0.0</td>\n",
       "      <td>0.0</td>\n",
       "      <td>0.0</td>\n",
       "      <td>36.0</td>\n",
       "    </tr>\n",
       "    <tr>\n",
       "      <th>36205</th>\n",
       "      <td>2.0</td>\n",
       "      <td>0.0</td>\n",
       "      <td>0.0</td>\n",
       "      <td>0.0</td>\n",
       "      <td>0.0</td>\n",
       "      <td>1.0</td>\n",
       "      <td>1.0</td>\n",
       "      <td>0.0</td>\n",
       "      <td>0.0</td>\n",
       "      <td>0.0</td>\n",
       "      <td>...</td>\n",
       "      <td>0.0</td>\n",
       "      <td>0.0</td>\n",
       "      <td>0.0</td>\n",
       "      <td>0.0</td>\n",
       "      <td>0.0</td>\n",
       "      <td>0.0</td>\n",
       "      <td>0.0</td>\n",
       "      <td>0.0</td>\n",
       "      <td>0.0</td>\n",
       "      <td>13.0</td>\n",
       "    </tr>\n",
       "    <tr>\n",
       "      <th>36206</th>\n",
       "      <td>0.0</td>\n",
       "      <td>0.0</td>\n",
       "      <td>1.0</td>\n",
       "      <td>0.0</td>\n",
       "      <td>0.0</td>\n",
       "      <td>0.0</td>\n",
       "      <td>3.0</td>\n",
       "      <td>0.0</td>\n",
       "      <td>0.0</td>\n",
       "      <td>0.0</td>\n",
       "      <td>...</td>\n",
       "      <td>0.0</td>\n",
       "      <td>0.0</td>\n",
       "      <td>0.0</td>\n",
       "      <td>0.0</td>\n",
       "      <td>0.0</td>\n",
       "      <td>0.0</td>\n",
       "      <td>0.0</td>\n",
       "      <td>0.0</td>\n",
       "      <td>0.0</td>\n",
       "      <td>30.0</td>\n",
       "    </tr>\n",
       "    <tr>\n",
       "      <th>36207</th>\n",
       "      <td>0.0</td>\n",
       "      <td>0.0</td>\n",
       "      <td>0.0</td>\n",
       "      <td>1.0</td>\n",
       "      <td>0.0</td>\n",
       "      <td>0.0</td>\n",
       "      <td>3.0</td>\n",
       "      <td>0.0</td>\n",
       "      <td>0.0</td>\n",
       "      <td>0.0</td>\n",
       "      <td>...</td>\n",
       "      <td>0.0</td>\n",
       "      <td>0.0</td>\n",
       "      <td>0.0</td>\n",
       "      <td>0.0</td>\n",
       "      <td>0.0</td>\n",
       "      <td>0.0</td>\n",
       "      <td>0.0</td>\n",
       "      <td>0.0</td>\n",
       "      <td>0.0</td>\n",
       "      <td>30.0</td>\n",
       "    </tr>\n",
       "    <tr>\n",
       "      <th>36208</th>\n",
       "      <td>1.0</td>\n",
       "      <td>0.0</td>\n",
       "      <td>0.0</td>\n",
       "      <td>0.0</td>\n",
       "      <td>0.0</td>\n",
       "      <td>1.0</td>\n",
       "      <td>1.0</td>\n",
       "      <td>0.0</td>\n",
       "      <td>0.0</td>\n",
       "      <td>0.0</td>\n",
       "      <td>...</td>\n",
       "      <td>0.0</td>\n",
       "      <td>0.0</td>\n",
       "      <td>0.0</td>\n",
       "      <td>0.0</td>\n",
       "      <td>0.0</td>\n",
       "      <td>3.0</td>\n",
       "      <td>19.0</td>\n",
       "      <td>0.0</td>\n",
       "      <td>0.0</td>\n",
       "      <td>57.0</td>\n",
       "    </tr>\n",
       "  </tbody>\n",
       "</table>\n",
       "<p>36209 rows × 741 columns</p>\n",
       "</div>"
      ],
      "text/plain": [
       "         A    À    B    C    Ç    D    E    É    È    Ê  ...  LongueurS  \\\n",
       "0      2.0  0.0  1.0  2.0  0.0  0.0  4.0  1.0  0.0  0.0  ...        0.0   \n",
       "1      2.0  0.0  1.0  0.0  0.0  1.0  5.0  0.0  0.0  0.0  ...        0.0   \n",
       "2      1.0  0.0  2.0  0.0  0.0  0.0  3.0  1.0  0.0  0.0  ...        0.0   \n",
       "3      1.0  0.0  2.0  0.0  0.0  1.0  3.0  1.0  0.0  0.0  ...        0.0   \n",
       "4      1.0  0.0  1.0  0.0  0.0  0.0  0.0  1.0  0.0  0.0  ...        0.0   \n",
       "...    ...  ...  ...  ...  ...  ...  ...  ...  ...  ...  ...        ...   \n",
       "36204  1.0  0.0  0.0  0.0  0.0  0.0  3.0  0.0  0.0  0.0  ...        0.0   \n",
       "36205  2.0  0.0  0.0  0.0  0.0  1.0  1.0  0.0  0.0  0.0  ...        0.0   \n",
       "36206  0.0  0.0  1.0  0.0  0.0  0.0  3.0  0.0  0.0  0.0  ...        0.0   \n",
       "36207  0.0  0.0  0.0  1.0  0.0  0.0  3.0  0.0  0.0  0.0  ...        0.0   \n",
       "36208  1.0  0.0  0.0  0.0  0.0  1.0  1.0  0.0  0.0  0.0  ...        0.0   \n",
       "\n",
       "       LongueurT  LongueurU  LongueurÛ  LongueurV  LongueurW  LongueurX  \\\n",
       "0            0.0        0.0        0.0        0.0        0.0        0.0   \n",
       "1            0.0        0.0        0.0        0.0        2.0       21.0   \n",
       "2            0.0        0.0        0.0        0.0        2.0       17.0   \n",
       "3            0.0        2.0       19.0        0.0        0.0        0.0   \n",
       "4            0.0        0.0        0.0        0.0        0.0        0.0   \n",
       "...          ...        ...        ...        ...        ...        ...   \n",
       "36204        0.0        0.0        0.0        0.0        0.0        0.0   \n",
       "36205        0.0        0.0        0.0        0.0        0.0        0.0   \n",
       "36206        0.0        0.0        0.0        0.0        0.0        0.0   \n",
       "36207        0.0        0.0        0.0        0.0        0.0        0.0   \n",
       "36208        0.0        0.0        0.0        0.0        3.0       19.0   \n",
       "\n",
       "       LongueurY  LongueurZ  Longueur-  \n",
       "0            0.0        0.0       23.0  \n",
       "1            0.0        0.0       42.0  \n",
       "2            0.0        0.0       34.0  \n",
       "3            0.0        0.0       38.0  \n",
       "4            0.0        0.0        0.0  \n",
       "...          ...        ...        ...  \n",
       "36204        0.0        0.0       36.0  \n",
       "36205        0.0        0.0       13.0  \n",
       "36206        0.0        0.0       30.0  \n",
       "36207        0.0        0.0       30.0  \n",
       "36208        0.0        0.0       57.0  \n",
       "\n",
       "[36209 rows x 741 columns]"
      ]
     },
     "execution_count": 57,
     "metadata": {},
     "output_type": "execute_result"
    }
   ],
   "source": [
    "X = pd.DataFrame(poly.fit_transform(df_letters),columns=covariables)\n",
    "X"
   ]
  },
  {
   "cell_type": "code",
   "execution_count": 58,
   "metadata": {},
   "outputs": [],
   "source": [
    "def forwardSelection(X, y, model_type =\"linear\",elimination_criteria = \"aic\", varchar_process = \"dummy_dropfirst\", sl=0.05):\n",
    "    \"\"\"\n",
    "    Forward Selection is a function, based on regression models, that returns significant features and selection iterations.\\n\n",
    "    Required Libraries: pandas, numpy, statmodels\n",
    "    \n",
    "    Parameters\n",
    "    ----------\n",
    "    X : Independent variables (Pandas Dataframe)\\n\n",
    "    y : Dependent variable (Pandas Series, Pandas Dataframe)\\n\n",
    "    model_type : 'linear' or 'logistic'\\n\n",
    "    elimination_criteria : 'aic', 'bic', 'r2', 'adjr2' or None\\n\n",
    "        'aic' refers Akaike information criterion\\n\n",
    "        'bic' refers Bayesian information criterion\\n\n",
    "        'r2' refers R-squared (Only works on linear model type)\\n\n",
    "        'r2' refers Adjusted R-squared (Only works on linear model type)\\n\n",
    "    varchar_process : 'drop', 'dummy' or 'dummy_dropfirst'\\n\n",
    "        'drop' drops varchar features\\n\n",
    "        'dummy' creates dummies for all levels of all varchars\\n\n",
    "        'dummy_dropfirst' creates dummies for all levels of all varchars, and drops first levels\\n\n",
    "    sl : Significance Level (default: 0.05)\\n\n",
    "    \n",
    "\n",
    "    Returns\n",
    "    -------\n",
    "    columns(list), iteration_logs(str)\\n\\n\n",
    "    Not Returns a Model\n",
    "    \n",
    "\n",
    "    Tested On\n",
    "    ---------\n",
    "    Python v3.6.7, Pandas v0.23.4, Numpy v1.15.04, StatModels v0.9.0\n",
    "    \n",
    "\n",
    "    See Also\n",
    "    --------\n",
    "    https://en.wikipedia.org/wiki/Stepwise_regression\n",
    "    \"\"\"\n",
    "    X = __varcharProcessing__(X,varchar_process = varchar_process)\n",
    "    return __forwardSelectionRaw__(X, y, model_type = model_type,elimination_criteria = elimination_criteria , sl=sl)\n",
    "\n",
    "def __varcharProcessing__(X, varchar_process = \"dummy_dropfirst\"):\n",
    "    \n",
    "    dtypes = X.dtypes\n",
    "    if varchar_process == \"drop\":   \n",
    "        X = X.drop(columns = dtypes[dtypes == np.object].index.tolist())\n",
    "        print(\"Character Variables (Dropped):\", dtypes[dtypes == np.object].index.tolist())\n",
    "    elif varchar_process == \"dummy\":\n",
    "        X = pd.get_dummies(X,drop_first=False)\n",
    "        print(\"Character Variables (Dummies Generated):\", dtypes[dtypes == np.object].index.tolist())\n",
    "    elif varchar_process == \"dummy_dropfirst\":\n",
    "        X = pd.get_dummies(X,drop_first=True)\n",
    "        print(\"Character Variables (Dummies Generated, First Dummies Dropped):\", dtypes[dtypes == np.object].index.tolist())\n",
    "    else: \n",
    "        X = pd.get_dummies(X,drop_first=True)\n",
    "        print(\"Character Variables (Dummies Generated, First Dummies Dropped):\", dtypes[dtypes == np.object].index.tolist())\n",
    "    \n",
    "    X[\"intercept\"] = 1\n",
    "    cols = X.columns.tolist()\n",
    "    cols = cols[-1:] + cols[:-1]\n",
    "    X = X[cols]\n",
    "    \n",
    "    return X\n",
    "\n",
    "def __forwardSelectionRaw__(X, y, model_type =\"linear\",elimination_criteria = \"aic\", sl=0.05):\n",
    "\n",
    "    iterations_log = \"\"\n",
    "    cols = X.columns.tolist()\n",
    "    \n",
    "    def regressor(y,X, model_type=model_type):\n",
    "        if model_type == \"linear\":\n",
    "            regressor = sm.OLS(y, X).fit()\n",
    "        elif model_type == \"logistic\":\n",
    "            regressor = sm.Logit(y, X).fit()\n",
    "        else:\n",
    "            print(\"\\nWrong Model Type : \"+ model_type +\"\\nLinear model type is seleted.\")\n",
    "            model_type = \"linear\"\n",
    "            regressor = sm.OLS(y, X).fit()\n",
    "        return regressor\n",
    "    \n",
    "    selected_cols = [\"intercept\"]\n",
    "    other_cols = cols.copy()\n",
    "    other_cols.remove(\"intercept\")\n",
    "    \n",
    "    model = regressor(y, X[selected_cols])\n",
    "    \n",
    "    if elimination_criteria == \"aic\":\n",
    "        criteria = model.aic\n",
    "    elif elimination_criteria == \"bic\":\n",
    "        criteria = model.bic\n",
    "    elif elimination_criteria == \"r2\" and model_type ==\"linear\":\n",
    "        criteria = model.rsquared\n",
    "    elif elimination_criteria == \"adjr2\" and model_type ==\"linear\":\n",
    "        criteria = model.rsquared_adj\n",
    "    \n",
    "    \n",
    "    for i in range(X.shape[1]):\n",
    "        pvals = pd.DataFrame(columns = [\"Cols\",\"Pval\"])\n",
    "        for j in other_cols:\n",
    "            model = regressor(y, X[selected_cols+[j]])\n",
    "            pvals = pvals.append(pd.DataFrame([[j, model.pvalues[j]]],columns = [\"Cols\",\"Pval\"]),ignore_index=True)\n",
    "        pvals = pvals.sort_values(by = [\"Pval\"]).reset_index(drop=True)\n",
    "        pvals = pvals[pvals.Pval<=sl]\n",
    "        if pvals.shape[0] > 0:\n",
    "            \n",
    "            model = regressor(y, X[selected_cols+[pvals[\"Cols\"][0]]])\n",
    "            iterations_log += str(\"\\nEntered : \"+pvals[\"Cols\"][0] + \"\\n\")    \n",
    "            iterations_log += \"\\n\\n\"+str(model.summary())+\"\\nAIC: \"+ str(model.aic) + \"\\nBIC: \"+ str(model.bic)+\"\\n\\n\"\n",
    "                    \n",
    "        \n",
    "            if  elimination_criteria == \"aic\":\n",
    "                new_criteria = model.aic\n",
    "                if new_criteria < criteria:\n",
    "                    print(\"Entered :\", pvals[\"Cols\"][0], \"\\tAIC :\", model.aic)\n",
    "                    selected_cols.append(pvals[\"Cols\"][0])\n",
    "                    other_cols.remove(pvals[\"Cols\"][0])\n",
    "                    criteria = new_criteria\n",
    "                else:\n",
    "                    print(\"break : Criteria\")\n",
    "                    break\n",
    "            elif  elimination_criteria == \"bic\":\n",
    "                new_criteria = model.bic\n",
    "                if new_criteria < criteria:\n",
    "                    print(\"Entered :\", pvals[\"Cols\"][0], \"\\tBIC :\", model.bic)\n",
    "                    selected_cols.append(pvals[\"Cols\"][0])\n",
    "                    other_cols.remove(pvals[\"Cols\"][0])\n",
    "                    criteria = new_criteria\n",
    "                else:\n",
    "                    print(\"break : Criteria\")\n",
    "                    break        \n",
    "            elif  elimination_criteria == \"r2\" and model_type ==\"linear\":\n",
    "                new_criteria = model.rsquared\n",
    "                if new_criteria > criteria:\n",
    "                    print(\"Entered :\", pvals[\"Cols\"][0], \"\\tR2 :\", model.rsquared)\n",
    "                    selected_cols.append(pvals[\"Cols\"][0])\n",
    "                    other_cols.remove(pvals[\"Cols\"][0])\n",
    "                    criteria = new_criteria\n",
    "                else:\n",
    "                    print(\"break : Criteria\")\n",
    "                    break           \n",
    "            elif  elimination_criteria == \"adjr2\" and model_type ==\"linear\":\n",
    "                new_criteria = model.rsquared_adj\n",
    "                if new_criteria > criteria:\n",
    "                    print(\"Entered :\", pvals[\"Cols\"][0], \"\\tAdjR2 :\", model.rsquared_adj)\n",
    "                    selected_cols.append(pvals[\"Cols\"][0])\n",
    "                    other_cols.remove(pvals[\"Cols\"][0])\n",
    "                    criteria = new_criteria\n",
    "                else:\n",
    "                    print(\"Break : Criteria\")\n",
    "                    break\n",
    "            else:\n",
    "                print(\"Entered :\", pvals[\"Cols\"][0])\n",
    "                selected_cols.append(pvals[\"Cols\"][0])\n",
    "                other_cols.remove(pvals[\"Cols\"][0])            \n",
    "                \n",
    "        else:\n",
    "            print(\"Break : Significance Level\")\n",
    "            break\n",
    "        \n",
    "    model = regressor(y, X[selected_cols])\n",
    "    if elimination_criteria == \"aic\":\n",
    "        criteria = model.aic\n",
    "    elif elimination_criteria == \"bic\":\n",
    "        criteria = model.bic\n",
    "    elif elimination_criteria == \"r2\" and model_type ==\"linear\":\n",
    "        criteria = model.rsquared\n",
    "    elif elimination_criteria == \"adjr2\" and model_type ==\"linear\":\n",
    "        criteria = model.rsquared_adj\n",
    "    \n",
    "    print(model.summary())\n",
    "    print(\"AIC: \"+str(model.aic))\n",
    "    print(\"BIC: \"+str(model.bic))\n",
    "    print(\"Final Variables:\", selected_cols)\n",
    "\n",
    "    return selected_cols, iterations_log\n",
    "\n"
   ]
  },
  {
   "cell_type": "code",
   "execution_count": 59,
   "metadata": {},
   "outputs": [],
   "source": [
    "X_train, X_test, y_train, y_test = train_test_split(X, y, test_size=0.2, random_state=0)"
   ]
  },
  {
   "cell_type": "code",
   "execution_count": 60,
   "metadata": {},
   "outputs": [],
   "source": [
    "#selected_cov,iterations_log = forwardSelection(X_train, y_train, model_type =\"linear\",elimination_criteria = \"aic\")\n",
    "#sélection de variables qui durent plus de 8h"
   ]
  },
  {
   "cell_type": "code",
   "execution_count": 61,
   "metadata": {},
   "outputs": [
    {
     "name": "stdout",
     "output_type": "stream",
     "text": [
      "9.930917977630523e+17\n"
     ]
    }
   ],
   "source": [
    "Lrplein= LinearRegression()\n",
    "Lrplein.fit(X_train, y_train)\n",
    "y_pred= Lrplein.predict(X_test)\n",
    "print(mse(y_pred,y_test))"
   ]
  },
  {
   "cell_type": "code",
   "execution_count": 62,
   "metadata": {},
   "outputs": [
    {
     "data": {
      "text/plain": [
       "'\\nfrom yellowbrick.regressor import CooksDistance\\nfrom yellowbrick.datasets import load_concrete\\nfrom sklearn.linear_model import LinearRegression\\nfrom yellowbrick.regressor import ResidualsPlot\\n\\n# Instantiate and fit the visualizer\\nmodel = LinearRegression()\\nvisualizer_residuals = ResidualsPlot(model)\\nvisualizer_residuals.fit(X, y)\\nvisualizer_residuals.show()\\n'"
      ]
     },
     "execution_count": 62,
     "metadata": {},
     "output_type": "execute_result"
    }
   ],
   "source": [
    "'''\n",
    "from yellowbrick.regressor import CooksDistance\n",
    "from yellowbrick.datasets import load_concrete\n",
    "from sklearn.linear_model import LinearRegression\n",
    "from yellowbrick.regressor import ResidualsPlot\n",
    "\n",
    "# Instantiate and fit the visualizer\n",
    "model = LinearRegression()\n",
    "visualizer_residuals = ResidualsPlot(model)\n",
    "visualizer_residuals.fit(X, y)\n",
    "visualizer_residuals.show()\n",
    "'''\n"
   ]
  },
  {
   "cell_type": "code",
   "execution_count": 63,
   "metadata": {},
   "outputs": [
    {
     "name": "stdout",
     "output_type": "stream",
     "text": [
      "[47.84749522]\n"
     ]
    }
   ],
   "source": [
    "latitude=Lrplein.predict(Xlat)\n",
    "print(latitude)"
   ]
  },
  {
   "cell_type": "code",
   "execution_count": 64,
   "metadata": {},
   "outputs": [],
   "source": [
    "X0 = pd.DataFrame(Xlat, columns = X.columns.to_list())"
   ]
  },
  {
   "cell_type": "code",
   "execution_count": 65,
   "metadata": {},
   "outputs": [
    {
     "name": "stdout",
     "output_type": "stream",
     "text": [
      "3.8242225952185587\n",
      "0.18453184556133717\n"
     ]
    }
   ],
   "source": [
    "selected_variable = ['A', 'Longueur', 'Y', 'MÏ', 'S', 'W', 'È', 'OC', 'XÏ', 'H', 'BÀ', 'NK', 'Z', 'ZR', 'K', 'PM', 'EÇ', 'O', 'TÎ', 'J', 'LÇ', 'ÈC', 'ÎH', 'UÊ', 'C', 'ÎE', 'F', 'JÇ', 'ÎË', '-J', 'UÏ', 'CB', '-È', 'OA', 'V', 'NJ', '-K', 'ED', '-R', 'XÎ', 'YM', 'Ï', 'LE', 'ÎG', 'ÉE', '-S', 'SK', 'UF', 'ÏG', 'JB', 'ZD', 'SB', 'IË', 'GÊ', 'LongueurM', 'M', 'XÔ', 'HC', 'ÈÉ', 'MA', 'YS', 'XU', 'JÉ', 'DB', 'NF', 'TQ', 'ÛÇ', 'ÛH', 'HE', 'YB', 'LongueurW', 'LongueurX', 'YW', 'LongueurÇ', 'UÎ', 'ÎÊ', 'YP', 'NÏ', 'ZÛ', 'TA', 'DÀ', 'MC', 'ÎÈ', 'ÏD', 'YK', 'XK', 'R', 'YR', 'UË', 'ZÔ', 'PI', 'PF', 'HA', 'UP', 'YL', 'ÏE', 'ÔF', 'ÔË', 'ÛF', 'E', 'XB', 'UL', 'YÔ', 'LÊ', 'WÈ', 'FÇ', '-T', 'U', 'IÈ', 'ÉC', 'Q', 'QG', '-W', 'ÈÇ', 'Ë', 'RQ', 'ÏF', 'TN', 'YÛ', 'ÛË', 'LÈ', 'WË', '-Ô', 'ÉA', 'PÈ', 'RH', 'XM', 'NÊ', 'ÏË', 'SÀ', 'NB', 'SÊ', 'SJ', 'MÉ', 'LongueurV', 'OÇ', 'LongueurY', 'LongueurL', 'TÀ', 'PO', '-Ê', 'YQ', 'ÉÇ', 'OE', 'OD', '-', 'ZÀ', 'ZB', 'VJ', '-É', 'ÈD', 'YX', 'IF', 'HD']\n",
    "\n",
    "Lrselect= LinearRegression()\n",
    "Lrselect.fit(X_train[selected_variable], y_train)\n",
    "y_pred= Lrselect.predict(X_test[selected_variable])\n",
    "print(mse(y_pred,y_test))\n",
    "print(Lrselect.score(X_test[selected_variable],y_test))"
   ]
  },
  {
   "cell_type": "code",
   "execution_count": 66,
   "metadata": {},
   "outputs": [
    {
     "data": {
      "text/plain": [
       "154"
      ]
     },
     "execution_count": 66,
     "metadata": {},
     "output_type": "execute_result"
    }
   ],
   "source": [
    "len(selected_variable)"
   ]
  },
  {
   "cell_type": "code",
   "execution_count": 67,
   "metadata": {},
   "outputs": [
    {
     "name": "stdout",
     "output_type": "stream",
     "text": [
      "[48.77646458]\n"
     ]
    }
   ],
   "source": [
    "latitude=Lrselect.predict(X0[selected_variable])\n",
    "print(latitude)"
   ]
  },
  {
   "cell_type": "code",
   "execution_count": 68,
   "metadata": {},
   "outputs": [],
   "source": [
    "Xcommune = X0[selected_variable].to_numpy()\n",
    "A=Xcommune.dot(np.linalg.inv(np.transpose(X_train[selected_variable].to_numpy()).dot(X_train[selected_variable].to_numpy()))).dot(np.transpose(Xcommune))\n",
    "n= len(X_train[selected_variable])\n",
    "p= len(X_train[selected_variable].columns)\n",
    "q=stats.t.ppf(1-0.4/2, df= n-p)\n",
    "ICmax = Lrselect.predict(Xcommune)[0] + q * np.sqrt(mse(y_pred,y_test)*(1+A[0][0]))\n",
    "ICmin = Lrselect.predict(Xcommune)[0] - q * np.sqrt(mse(y_pred,y_test)*(1+A[0][0]))"
   ]
  },
  {
   "cell_type": "code",
   "execution_count": 69,
   "metadata": {},
   "outputs": [
    {
     "name": "stdout",
     "output_type": "stream",
     "text": [
      "[47.12224595903557, 50.43068319815447]\n"
     ]
    }
   ],
   "source": [
    "print([ICmin, ICmax])"
   ]
  },
  {
   "cell_type": "markdown",
   "metadata": {},
   "source": [
    "## Bigrammes"
   ]
  },
  {
   "cell_type": "code",
   "execution_count": 10,
   "metadata": {},
   "outputs": [
    {
     "name": "stdout",
     "output_type": "stream",
     "text": [
      "1521\n"
     ]
    }
   ],
   "source": [
    "#ajout des bigrammes\n",
    "alphabet = [\"a\",\"à\", \"b\", \"c\", \"ç\", \"d\", \"e\",\"é\",\"è\",\"ê\",\"ë\",\"f\", \"g\", \"h\", \"i\",\"ï\", \"î\", \"j\", \"k\", \"l\", \"m\",\n",
    "            \"n\", \"o\", \"ô\", \"ö\", \"p\", \"q\", \"r\", \"s\", \"t\", \"u\", \"û\", \"v\", \"w\", \"x\", \"y\", \"z\", \" \", \"-\"]\n",
    "\n",
    "def bigrammes(alphabet):\n",
    "    bigrammes = list()\n",
    "    for i in alphabet :\n",
    "        for j in alphabet :\n",
    "            bigrammes.append(i+j)\n",
    "    return(bigrammes)\n",
    "\n",
    "covariablesbi = bigrammes(alphabet)\n",
    "print(len(covariablesbi))"
   ]
  },
  {
   "cell_type": "code",
   "execution_count": 11,
   "metadata": {},
   "outputs": [
    {
     "data": {
      "text/html": [
       "<div>\n",
       "<style scoped>\n",
       "    .dataframe tbody tr th:only-of-type {\n",
       "        vertical-align: middle;\n",
       "    }\n",
       "\n",
       "    .dataframe tbody tr th {\n",
       "        vertical-align: top;\n",
       "    }\n",
       "\n",
       "    .dataframe thead th {\n",
       "        text-align: right;\n",
       "    }\n",
       "</style>\n",
       "<table border=\"1\" class=\"dataframe\">\n",
       "  <thead>\n",
       "    <tr style=\"text-align: right;\">\n",
       "      <th></th>\n",
       "      <th>AA</th>\n",
       "      <th>AÀ</th>\n",
       "      <th>AB</th>\n",
       "      <th>AC</th>\n",
       "      <th>AÇ</th>\n",
       "      <th>AD</th>\n",
       "      <th>AE</th>\n",
       "      <th>AË</th>\n",
       "      <th>AF</th>\n",
       "      <th>AG</th>\n",
       "      <th>...</th>\n",
       "      <th>-Q</th>\n",
       "      <th>-R</th>\n",
       "      <th>-S</th>\n",
       "      <th>-T</th>\n",
       "      <th>-U</th>\n",
       "      <th>-V</th>\n",
       "      <th>-W</th>\n",
       "      <th>-X</th>\n",
       "      <th>-Y</th>\n",
       "      <th>-Z</th>\n",
       "    </tr>\n",
       "  </thead>\n",
       "  <tbody>\n",
       "    <tr>\n",
       "      <th>0</th>\n",
       "      <td>0</td>\n",
       "      <td>0</td>\n",
       "      <td>1</td>\n",
       "      <td>0</td>\n",
       "      <td>0</td>\n",
       "      <td>0</td>\n",
       "      <td>0</td>\n",
       "      <td>0</td>\n",
       "      <td>0</td>\n",
       "      <td>0</td>\n",
       "      <td>...</td>\n",
       "      <td>0</td>\n",
       "      <td>0</td>\n",
       "      <td>0</td>\n",
       "      <td>0</td>\n",
       "      <td>0</td>\n",
       "      <td>0</td>\n",
       "      <td>0</td>\n",
       "      <td>0</td>\n",
       "      <td>0</td>\n",
       "      <td>0</td>\n",
       "    </tr>\n",
       "    <tr>\n",
       "      <th>1</th>\n",
       "      <td>0</td>\n",
       "      <td>0</td>\n",
       "      <td>1</td>\n",
       "      <td>0</td>\n",
       "      <td>0</td>\n",
       "      <td>0</td>\n",
       "      <td>0</td>\n",
       "      <td>0</td>\n",
       "      <td>0</td>\n",
       "      <td>0</td>\n",
       "      <td>...</td>\n",
       "      <td>0</td>\n",
       "      <td>0</td>\n",
       "      <td>0</td>\n",
       "      <td>0</td>\n",
       "      <td>0</td>\n",
       "      <td>1</td>\n",
       "      <td>0</td>\n",
       "      <td>0</td>\n",
       "      <td>0</td>\n",
       "      <td>0</td>\n",
       "    </tr>\n",
       "    <tr>\n",
       "      <th>2</th>\n",
       "      <td>0</td>\n",
       "      <td>0</td>\n",
       "      <td>0</td>\n",
       "      <td>0</td>\n",
       "      <td>0</td>\n",
       "      <td>0</td>\n",
       "      <td>0</td>\n",
       "      <td>0</td>\n",
       "      <td>0</td>\n",
       "      <td>0</td>\n",
       "      <td>...</td>\n",
       "      <td>0</td>\n",
       "      <td>0</td>\n",
       "      <td>0</td>\n",
       "      <td>0</td>\n",
       "      <td>0</td>\n",
       "      <td>0</td>\n",
       "      <td>0</td>\n",
       "      <td>0</td>\n",
       "      <td>0</td>\n",
       "      <td>0</td>\n",
       "    </tr>\n",
       "    <tr>\n",
       "      <th>3</th>\n",
       "      <td>0</td>\n",
       "      <td>0</td>\n",
       "      <td>0</td>\n",
       "      <td>0</td>\n",
       "      <td>0</td>\n",
       "      <td>0</td>\n",
       "      <td>0</td>\n",
       "      <td>0</td>\n",
       "      <td>0</td>\n",
       "      <td>0</td>\n",
       "      <td>...</td>\n",
       "      <td>0</td>\n",
       "      <td>0</td>\n",
       "      <td>0</td>\n",
       "      <td>0</td>\n",
       "      <td>0</td>\n",
       "      <td>0</td>\n",
       "      <td>0</td>\n",
       "      <td>0</td>\n",
       "      <td>0</td>\n",
       "      <td>0</td>\n",
       "    </tr>\n",
       "    <tr>\n",
       "      <th>4</th>\n",
       "      <td>0</td>\n",
       "      <td>0</td>\n",
       "      <td>0</td>\n",
       "      <td>0</td>\n",
       "      <td>0</td>\n",
       "      <td>0</td>\n",
       "      <td>0</td>\n",
       "      <td>0</td>\n",
       "      <td>0</td>\n",
       "      <td>0</td>\n",
       "      <td>...</td>\n",
       "      <td>0</td>\n",
       "      <td>0</td>\n",
       "      <td>0</td>\n",
       "      <td>0</td>\n",
       "      <td>0</td>\n",
       "      <td>0</td>\n",
       "      <td>0</td>\n",
       "      <td>0</td>\n",
       "      <td>0</td>\n",
       "      <td>0</td>\n",
       "    </tr>\n",
       "    <tr>\n",
       "      <th>...</th>\n",
       "      <td>...</td>\n",
       "      <td>...</td>\n",
       "      <td>...</td>\n",
       "      <td>...</td>\n",
       "      <td>...</td>\n",
       "      <td>...</td>\n",
       "      <td>...</td>\n",
       "      <td>...</td>\n",
       "      <td>...</td>\n",
       "      <td>...</td>\n",
       "      <td>...</td>\n",
       "      <td>...</td>\n",
       "      <td>...</td>\n",
       "      <td>...</td>\n",
       "      <td>...</td>\n",
       "      <td>...</td>\n",
       "      <td>...</td>\n",
       "      <td>...</td>\n",
       "      <td>...</td>\n",
       "      <td>...</td>\n",
       "      <td>...</td>\n",
       "    </tr>\n",
       "    <tr>\n",
       "      <th>36204</th>\n",
       "      <td>0</td>\n",
       "      <td>0</td>\n",
       "      <td>0</td>\n",
       "      <td>0</td>\n",
       "      <td>0</td>\n",
       "      <td>0</td>\n",
       "      <td>0</td>\n",
       "      <td>0</td>\n",
       "      <td>0</td>\n",
       "      <td>0</td>\n",
       "      <td>...</td>\n",
       "      <td>0</td>\n",
       "      <td>0</td>\n",
       "      <td>0</td>\n",
       "      <td>0</td>\n",
       "      <td>0</td>\n",
       "      <td>0</td>\n",
       "      <td>0</td>\n",
       "      <td>0</td>\n",
       "      <td>0</td>\n",
       "      <td>0</td>\n",
       "    </tr>\n",
       "    <tr>\n",
       "      <th>36205</th>\n",
       "      <td>0</td>\n",
       "      <td>0</td>\n",
       "      <td>0</td>\n",
       "      <td>0</td>\n",
       "      <td>0</td>\n",
       "      <td>1</td>\n",
       "      <td>0</td>\n",
       "      <td>0</td>\n",
       "      <td>0</td>\n",
       "      <td>0</td>\n",
       "      <td>...</td>\n",
       "      <td>0</td>\n",
       "      <td>0</td>\n",
       "      <td>0</td>\n",
       "      <td>0</td>\n",
       "      <td>0</td>\n",
       "      <td>0</td>\n",
       "      <td>0</td>\n",
       "      <td>0</td>\n",
       "      <td>0</td>\n",
       "      <td>0</td>\n",
       "    </tr>\n",
       "    <tr>\n",
       "      <th>36206</th>\n",
       "      <td>0</td>\n",
       "      <td>0</td>\n",
       "      <td>0</td>\n",
       "      <td>0</td>\n",
       "      <td>0</td>\n",
       "      <td>0</td>\n",
       "      <td>0</td>\n",
       "      <td>0</td>\n",
       "      <td>0</td>\n",
       "      <td>0</td>\n",
       "      <td>...</td>\n",
       "      <td>0</td>\n",
       "      <td>0</td>\n",
       "      <td>0</td>\n",
       "      <td>0</td>\n",
       "      <td>0</td>\n",
       "      <td>0</td>\n",
       "      <td>0</td>\n",
       "      <td>0</td>\n",
       "      <td>0</td>\n",
       "      <td>0</td>\n",
       "    </tr>\n",
       "    <tr>\n",
       "      <th>36207</th>\n",
       "      <td>0</td>\n",
       "      <td>0</td>\n",
       "      <td>0</td>\n",
       "      <td>0</td>\n",
       "      <td>0</td>\n",
       "      <td>0</td>\n",
       "      <td>0</td>\n",
       "      <td>0</td>\n",
       "      <td>0</td>\n",
       "      <td>0</td>\n",
       "      <td>...</td>\n",
       "      <td>0</td>\n",
       "      <td>0</td>\n",
       "      <td>1</td>\n",
       "      <td>0</td>\n",
       "      <td>0</td>\n",
       "      <td>0</td>\n",
       "      <td>0</td>\n",
       "      <td>0</td>\n",
       "      <td>0</td>\n",
       "      <td>0</td>\n",
       "    </tr>\n",
       "    <tr>\n",
       "      <th>36208</th>\n",
       "      <td>0</td>\n",
       "      <td>0</td>\n",
       "      <td>0</td>\n",
       "      <td>0</td>\n",
       "      <td>0</td>\n",
       "      <td>0</td>\n",
       "      <td>0</td>\n",
       "      <td>0</td>\n",
       "      <td>0</td>\n",
       "      <td>1</td>\n",
       "      <td>...</td>\n",
       "      <td>0</td>\n",
       "      <td>0</td>\n",
       "      <td>0</td>\n",
       "      <td>0</td>\n",
       "      <td>0</td>\n",
       "      <td>1</td>\n",
       "      <td>0</td>\n",
       "      <td>0</td>\n",
       "      <td>0</td>\n",
       "      <td>0</td>\n",
       "    </tr>\n",
       "  </tbody>\n",
       "</table>\n",
       "<p>36209 rows × 748 columns</p>\n",
       "</div>"
      ],
      "text/plain": [
       "       AA  AÀ  AB  AC  AÇ  AD  AE  AË  AF  AG  ...  -Q  -R  -S  -T  -U  -V  \\\n",
       "0       0   0   1   0   0   0   0   0   0   0  ...   0   0   0   0   0   0   \n",
       "1       0   0   1   0   0   0   0   0   0   0  ...   0   0   0   0   0   1   \n",
       "2       0   0   0   0   0   0   0   0   0   0  ...   0   0   0   0   0   0   \n",
       "3       0   0   0   0   0   0   0   0   0   0  ...   0   0   0   0   0   0   \n",
       "4       0   0   0   0   0   0   0   0   0   0  ...   0   0   0   0   0   0   \n",
       "...    ..  ..  ..  ..  ..  ..  ..  ..  ..  ..  ...  ..  ..  ..  ..  ..  ..   \n",
       "36204   0   0   0   0   0   0   0   0   0   0  ...   0   0   0   0   0   0   \n",
       "36205   0   0   0   0   0   1   0   0   0   0  ...   0   0   0   0   0   0   \n",
       "36206   0   0   0   0   0   0   0   0   0   0  ...   0   0   0   0   0   0   \n",
       "36207   0   0   0   0   0   0   0   0   0   0  ...   0   0   1   0   0   0   \n",
       "36208   0   0   0   0   0   0   0   0   0   1  ...   0   0   0   0   0   1   \n",
       "\n",
       "       -W  -X  -Y  -Z  \n",
       "0       0   0   0   0  \n",
       "1       0   0   0   0  \n",
       "2       0   0   0   0  \n",
       "3       0   0   0   0  \n",
       "4       0   0   0   0  \n",
       "...    ..  ..  ..  ..  \n",
       "36204   0   0   0   0  \n",
       "36205   0   0   0   0  \n",
       "36206   0   0   0   0  \n",
       "36207   0   0   0   0  \n",
       "36208   0   0   0   0  \n",
       "\n",
       "[36209 rows x 748 columns]"
      ]
     },
     "execution_count": 11,
     "metadata": {},
     "output_type": "execute_result"
    }
   ],
   "source": [
    "df_lettersbi = pd.DataFrame()\n",
    "##construction de la matrice des bigrammes (attendre 2 minutes)\n",
    "#Occurence des lettres\n",
    "\n",
    "for letter in covariablesbi :\n",
    "    \n",
    "    df_current = df[\"nom\"].str.count(letter) \n",
    "    #Notre filtre count les occurrences de chaque lettre\n",
    " \n",
    "    df_current.rename(letter.upper(), inplace=True)\n",
    "    #Rebaptisation de la colonne\n",
    "    \n",
    "    if df_current.sum()!= 0:\n",
    "        df_lettersbi = pd.concat([df_lettersbi, df_current], axis=\"columns\")\n",
    "        #concaténation de la dataframe par rapport aux colonnes\n",
    "        \n",
    "df_lettersbi"
   ]
  },
  {
   "cell_type": "code",
   "execution_count": 72,
   "metadata": {},
   "outputs": [],
   "source": [
    "X = pd.concat([df_letters, df_lettersbi], axis=\"columns\") #matrice des covariables monogrammes + bigrammes\n"
   ]
  },
  {
   "cell_type": "code",
   "execution_count": 73,
   "metadata": {},
   "outputs": [],
   "source": [
    "X_train, X_test, y_train, y_test = train_test_split(X, y, test_size=0.2, random_state=0)"
   ]
  },
  {
   "cell_type": "code",
   "execution_count": 79,
   "metadata": {},
   "outputs": [
    {
     "name": "stdout",
     "output_type": "stream",
     "text": [
      "3.4471494931649156\n",
      "0.2649380193558759\n"
     ]
    }
   ],
   "source": [
    "selected_variable = ['A', 'Longueur', 'Y', '-D', 'YR', 'S', 'W', 'RT', 'SN', 'NV', 'AC', 'ET', 'È', 'H', 'LH', 'IS', 'NG', 'IL', 'EY', 'AS', 'GU', 'S-', 'O', 'Z', 'AD', 'PU', 'AM', 'CO', 'TZ', 'C', 'CQ', 'GA', 'VR', 'K', 'NC', 'OT', 'AA', 'EV', 'OL', 'EE', 'ST', 'OQ', 'MI', 'RR', 'IÈ', 'LÈ', 'WA', '-A', 'MA', 'VA', 'F', 'PL', 'CR', 'EI', 'NS', 'SP', 'AO', 'AI', 'SA', 'A-', 'AU', 'UY', 'EF', 'RI', '-V', 'GH', 'JU', 'HA', 'BI', 'IC', 'IM', 'ÉJ', 'YS', 'YG', 'DE', 'AN', 'SL', 'TT', 'TE', 'TI', 'IN', 'T-', 'ÉL', 'UÉ', 'SM', 'YM', 'ÈR', 'ÈV', 'Q-', 'TF', 'PP', 'IU', 'YH', 'LL', 'LT', 'OG', 'OI', 'ME', 'YC', 'UA', 'AÏ']\n",
    "# après avoir fait la sélection de variables avec critère AIC\n",
    "Lrselect= LinearRegression()\n",
    "Lrselect.fit(X_train[selected_variable], y_train)\n",
    "y_pred= Lrselect.predict(X_test[selected_variable])\n",
    "print(mse(y_pred,y_test)) #MSE\n",
    "print(Lrselect.score(X_test[selected_variable], y_test)) #R2"
   ]
  },
  {
   "cell_type": "code",
   "execution_count": 13,
   "metadata": {},
   "outputs": [
    {
     "name": "stdout",
     "output_type": "stream",
     "text": [
      "786\n"
     ]
    }
   ],
   "source": [
    "alphabet = [\"a\",\"à\", \"b\", \"c\", \"ç\", \"d\", \"e\",\"é\",\"è\",\"ê\",\"ë\",\"f\", \"g\", \"h\", \"i\",\"ï\", \"î\", \"j\", \"k\", \"l\", \"m\",\n",
    "            \"n\", \"o\", \"ô\", \"ö\", \"p\", \"q\", \"r\", \"s\", \"t\", \"u\", \"û\", \"v\", \"w\", \"x\", \"y\", \"z\", \" \", \"-\"]\n",
    "\n",
    "def from_word_to_vect(word,alphabet) :\n",
    "    a = list()\n",
    "   \n",
    "    for letter in list(alphabet) :\n",
    "        a.append(word.lower().count(letter.lower()))\n",
    "          \n",
    "    #return(np.array([a]))\n",
    "    return(a)\n",
    "\n",
    "Xcommune = from_word_to_vect('Triffouillis-les-Oies',list(df_letters))\n",
    "Xcommune[-1] = len('Triffouillis-les-Oies')\n",
    "Xcommune = Xcommune + from_word_to_vect('Triffouillis-les-Oies',list(df_lettersbi))\n",
    "Xcommune = np.array([Xcommune])\n",
    "print(len(Xcommune[0])) #vérification"
   ]
  },
  {
   "cell_type": "code",
   "execution_count": 81,
   "metadata": {},
   "outputs": [
    {
     "data": {
      "text/html": [
       "<div>\n",
       "<style scoped>\n",
       "    .dataframe tbody tr th:only-of-type {\n",
       "        vertical-align: middle;\n",
       "    }\n",
       "\n",
       "    .dataframe tbody tr th {\n",
       "        vertical-align: top;\n",
       "    }\n",
       "\n",
       "    .dataframe thead th {\n",
       "        text-align: right;\n",
       "    }\n",
       "</style>\n",
       "<table border=\"1\" class=\"dataframe\">\n",
       "  <thead>\n",
       "    <tr style=\"text-align: right;\">\n",
       "      <th></th>\n",
       "      <th>A</th>\n",
       "      <th>À</th>\n",
       "      <th>B</th>\n",
       "      <th>C</th>\n",
       "      <th>Ç</th>\n",
       "      <th>D</th>\n",
       "      <th>E</th>\n",
       "      <th>É</th>\n",
       "      <th>È</th>\n",
       "      <th>Ê</th>\n",
       "      <th>...</th>\n",
       "      <th>-Q</th>\n",
       "      <th>-R</th>\n",
       "      <th>-S</th>\n",
       "      <th>-T</th>\n",
       "      <th>-U</th>\n",
       "      <th>-V</th>\n",
       "      <th>-W</th>\n",
       "      <th>-X</th>\n",
       "      <th>-Y</th>\n",
       "      <th>-Z</th>\n",
       "    </tr>\n",
       "  </thead>\n",
       "  <tbody>\n",
       "    <tr>\n",
       "      <th>0</th>\n",
       "      <td>0</td>\n",
       "      <td>0</td>\n",
       "      <td>0</td>\n",
       "      <td>0</td>\n",
       "      <td>0</td>\n",
       "      <td>0</td>\n",
       "      <td>2</td>\n",
       "      <td>0</td>\n",
       "      <td>0</td>\n",
       "      <td>0</td>\n",
       "      <td>...</td>\n",
       "      <td>0</td>\n",
       "      <td>0</td>\n",
       "      <td>0</td>\n",
       "      <td>0</td>\n",
       "      <td>0</td>\n",
       "      <td>0</td>\n",
       "      <td>0</td>\n",
       "      <td>0</td>\n",
       "      <td>0</td>\n",
       "      <td>0</td>\n",
       "    </tr>\n",
       "  </tbody>\n",
       "</table>\n",
       "<p>1 rows × 786 columns</p>\n",
       "</div>"
      ],
      "text/plain": [
       "   A  À  B  C  Ç  D  E  É  È  Ê  ...  -Q  -R  -S  -T  -U  -V  -W  -X  -Y  -Z\n",
       "0  0  0  0  0  0  0  2  0  0  0  ...   0   0   0   0   0   0   0   0   0   0\n",
       "\n",
       "[1 rows x 786 columns]"
      ]
     },
     "execution_count": 81,
     "metadata": {},
     "output_type": "execute_result"
    }
   ],
   "source": [
    "X0 = pd.DataFrame(Xcommune, columns = X.columns.to_list())\n",
    "X0 #x0 de Triffouillis-les-Oies en monogramme+bigrammes"
   ]
  },
  {
   "cell_type": "code",
   "execution_count": 82,
   "metadata": {},
   "outputs": [
    {
     "name": "stdout",
     "output_type": "stream",
     "text": [
      "[49.35181062]\n"
     ]
    }
   ],
   "source": [
    "latitude=Lrselect.predict(X0[selected_variable])\n",
    "print(latitude)"
   ]
  },
  {
   "cell_type": "code",
   "execution_count": 83,
   "metadata": {},
   "outputs": [],
   "source": [
    "Xcommune = X0[selected_variable].to_numpy()\n",
    "A=Xcommune.dot(np.linalg.inv(np.transpose(X_train[selected_variable].to_numpy()).dot(X_train[selected_variable].to_numpy()))).dot(np.transpose(Xcommune))\n",
    "n= len(X_train[selected_variable])\n",
    "p= len(X_train[selected_variable].columns)\n",
    "q=stats.t.ppf(1-0.4/2, df= n-p)\n",
    "ICmax = Lrselect.predict(Xcommune)[0] + q * np.sqrt(mse(y_pred,y_test)*(1+A[0][0]))\n",
    "ICmin = Lrselect.predict(Xcommune)[0] - q * np.sqrt(mse(y_pred,y_test)*(1+A[0][0]))"
   ]
  },
  {
   "cell_type": "code",
   "execution_count": 84,
   "metadata": {},
   "outputs": [
    {
     "name": "stdout",
     "output_type": "stream",
     "text": [
      "[47.78587995915951, 50.91774128901044]\n"
     ]
    }
   ],
   "source": [
    "print([ICmin, ICmax])"
   ]
  },
  {
   "cell_type": "markdown",
   "metadata": {},
   "source": [
    "## Trigrammes"
   ]
  },
  {
   "cell_type": "code",
   "execution_count": 85,
   "metadata": {},
   "outputs": [],
   "source": [
    "def trigrammes(alphabet):\n",
    "    trigrammes = list()\n",
    "    for i in list(df_lettersbi) :\n",
    "            for j in alphabet :\n",
    "                trigrammes.append(i.lower()+j)\n",
    "    return(trigrammes)\n",
    "\n",
    "covariablestri = trigrammes(alphabet)"
   ]
  },
  {
   "cell_type": "code",
   "execution_count": 86,
   "metadata": {},
   "outputs": [
    {
     "data": {
      "text/plain": [
       "'\\ndf_letterstri = pd.DataFrame()\\n\\n#Occurence des lettres\\n\\nfor letter in covariablestri :\\n    \\n    df_current = df[\"nom\"].str.count(letter) \\n    #Notre filtre count les occurrences de chaque lettre\\n \\n    df_current.rename(letter.upper(), inplace=True)\\n    #Rebaptisation de la colonne\\n    \\n    if df_current.sum()!= 0:\\n        df_letterstri = pd.concat([df_letterstri, df_current], axis=\"columns\")\\n        #concaténation de la dataframe par rapport aux colonnes\\n        \\ndf_letterstri\\n'"
      ]
     },
     "execution_count": 86,
     "metadata": {},
     "output_type": "execute_result"
    }
   ],
   "source": [
    "'''\n",
    "df_letterstri = pd.DataFrame()\n",
    "\n",
    "#Occurence des lettres\n",
    "\n",
    "for letter in covariablestri :\n",
    "    \n",
    "    df_current = df[\"nom\"].str.count(letter) \n",
    "    #Notre filtre count les occurrences de chaque lettre\n",
    " \n",
    "    df_current.rename(letter.upper(), inplace=True)\n",
    "    #Rebaptisation de la colonne\n",
    "    \n",
    "    if df_current.sum()!= 0:\n",
    "        df_letterstri = pd.concat([df_letterstri, df_current], axis=\"columns\")\n",
    "        #concaténation de la dataframe par rapport aux colonnes\n",
    "        \n",
    "df_letterstri\n",
    "'''\n",
    "#création de la matrice des trigrammes \n",
    "# très long donc téléchargement du résultat juste après"
   ]
  },
  {
   "cell_type": "code",
   "execution_count": 12,
   "metadata": {},
   "outputs": [
    {
     "data": {
      "text/html": [
       "<div>\n",
       "<style scoped>\n",
       "    .dataframe tbody tr th:only-of-type {\n",
       "        vertical-align: middle;\n",
       "    }\n",
       "\n",
       "    .dataframe tbody tr th {\n",
       "        vertical-align: top;\n",
       "    }\n",
       "\n",
       "    .dataframe thead th {\n",
       "        text-align: right;\n",
       "    }\n",
       "</style>\n",
       "<table border=\"1\" class=\"dataframe\">\n",
       "  <thead>\n",
       "    <tr style=\"text-align: right;\">\n",
       "      <th></th>\n",
       "      <th>AAC</th>\n",
       "      <th>AAL</th>\n",
       "      <th>AAR</th>\n",
       "      <th>AAS</th>\n",
       "      <th>AÀS</th>\n",
       "      <th>AÀ-</th>\n",
       "      <th>ABA</th>\n",
       "      <th>ABB</th>\n",
       "      <th>ABE</th>\n",
       "      <th>ABÉ</th>\n",
       "      <th>...</th>\n",
       "      <th>-YO</th>\n",
       "      <th>-YR</th>\n",
       "      <th>-YT</th>\n",
       "      <th>-YV</th>\n",
       "      <th>-YY</th>\n",
       "      <th>-YZ</th>\n",
       "      <th>-ZA</th>\n",
       "      <th>-ZI</th>\n",
       "      <th>-ZO</th>\n",
       "      <th>-ZU</th>\n",
       "    </tr>\n",
       "  </thead>\n",
       "  <tbody>\n",
       "    <tr>\n",
       "      <th>0</th>\n",
       "      <td>0</td>\n",
       "      <td>0</td>\n",
       "      <td>0</td>\n",
       "      <td>0</td>\n",
       "      <td>0</td>\n",
       "      <td>0</td>\n",
       "      <td>0</td>\n",
       "      <td>0</td>\n",
       "      <td>1</td>\n",
       "      <td>0</td>\n",
       "      <td>...</td>\n",
       "      <td>0</td>\n",
       "      <td>0</td>\n",
       "      <td>0</td>\n",
       "      <td>0</td>\n",
       "      <td>0</td>\n",
       "      <td>0</td>\n",
       "      <td>0</td>\n",
       "      <td>0</td>\n",
       "      <td>0</td>\n",
       "      <td>0</td>\n",
       "    </tr>\n",
       "    <tr>\n",
       "      <th>1</th>\n",
       "      <td>0</td>\n",
       "      <td>0</td>\n",
       "      <td>0</td>\n",
       "      <td>0</td>\n",
       "      <td>0</td>\n",
       "      <td>0</td>\n",
       "      <td>0</td>\n",
       "      <td>0</td>\n",
       "      <td>1</td>\n",
       "      <td>0</td>\n",
       "      <td>...</td>\n",
       "      <td>0</td>\n",
       "      <td>0</td>\n",
       "      <td>0</td>\n",
       "      <td>0</td>\n",
       "      <td>0</td>\n",
       "      <td>0</td>\n",
       "      <td>0</td>\n",
       "      <td>0</td>\n",
       "      <td>0</td>\n",
       "      <td>0</td>\n",
       "    </tr>\n",
       "    <tr>\n",
       "      <th>2</th>\n",
       "      <td>0</td>\n",
       "      <td>0</td>\n",
       "      <td>0</td>\n",
       "      <td>0</td>\n",
       "      <td>0</td>\n",
       "      <td>0</td>\n",
       "      <td>0</td>\n",
       "      <td>0</td>\n",
       "      <td>0</td>\n",
       "      <td>0</td>\n",
       "      <td>...</td>\n",
       "      <td>0</td>\n",
       "      <td>0</td>\n",
       "      <td>0</td>\n",
       "      <td>0</td>\n",
       "      <td>0</td>\n",
       "      <td>0</td>\n",
       "      <td>0</td>\n",
       "      <td>0</td>\n",
       "      <td>0</td>\n",
       "      <td>0</td>\n",
       "    </tr>\n",
       "    <tr>\n",
       "      <th>3</th>\n",
       "      <td>0</td>\n",
       "      <td>0</td>\n",
       "      <td>0</td>\n",
       "      <td>0</td>\n",
       "      <td>0</td>\n",
       "      <td>0</td>\n",
       "      <td>0</td>\n",
       "      <td>0</td>\n",
       "      <td>0</td>\n",
       "      <td>0</td>\n",
       "      <td>...</td>\n",
       "      <td>0</td>\n",
       "      <td>0</td>\n",
       "      <td>0</td>\n",
       "      <td>0</td>\n",
       "      <td>0</td>\n",
       "      <td>0</td>\n",
       "      <td>0</td>\n",
       "      <td>0</td>\n",
       "      <td>0</td>\n",
       "      <td>0</td>\n",
       "    </tr>\n",
       "    <tr>\n",
       "      <th>4</th>\n",
       "      <td>0</td>\n",
       "      <td>0</td>\n",
       "      <td>0</td>\n",
       "      <td>0</td>\n",
       "      <td>0</td>\n",
       "      <td>0</td>\n",
       "      <td>0</td>\n",
       "      <td>0</td>\n",
       "      <td>0</td>\n",
       "      <td>0</td>\n",
       "      <td>...</td>\n",
       "      <td>0</td>\n",
       "      <td>0</td>\n",
       "      <td>0</td>\n",
       "      <td>0</td>\n",
       "      <td>0</td>\n",
       "      <td>0</td>\n",
       "      <td>0</td>\n",
       "      <td>0</td>\n",
       "      <td>0</td>\n",
       "      <td>0</td>\n",
       "    </tr>\n",
       "    <tr>\n",
       "      <th>...</th>\n",
       "      <td>...</td>\n",
       "      <td>...</td>\n",
       "      <td>...</td>\n",
       "      <td>...</td>\n",
       "      <td>...</td>\n",
       "      <td>...</td>\n",
       "      <td>...</td>\n",
       "      <td>...</td>\n",
       "      <td>...</td>\n",
       "      <td>...</td>\n",
       "      <td>...</td>\n",
       "      <td>...</td>\n",
       "      <td>...</td>\n",
       "      <td>...</td>\n",
       "      <td>...</td>\n",
       "      <td>...</td>\n",
       "      <td>...</td>\n",
       "      <td>...</td>\n",
       "      <td>...</td>\n",
       "      <td>...</td>\n",
       "      <td>...</td>\n",
       "    </tr>\n",
       "    <tr>\n",
       "      <th>36204</th>\n",
       "      <td>0</td>\n",
       "      <td>0</td>\n",
       "      <td>0</td>\n",
       "      <td>0</td>\n",
       "      <td>0</td>\n",
       "      <td>0</td>\n",
       "      <td>0</td>\n",
       "      <td>0</td>\n",
       "      <td>0</td>\n",
       "      <td>0</td>\n",
       "      <td>...</td>\n",
       "      <td>0</td>\n",
       "      <td>0</td>\n",
       "      <td>0</td>\n",
       "      <td>0</td>\n",
       "      <td>0</td>\n",
       "      <td>0</td>\n",
       "      <td>0</td>\n",
       "      <td>0</td>\n",
       "      <td>0</td>\n",
       "      <td>0</td>\n",
       "    </tr>\n",
       "    <tr>\n",
       "      <th>36205</th>\n",
       "      <td>0</td>\n",
       "      <td>0</td>\n",
       "      <td>0</td>\n",
       "      <td>0</td>\n",
       "      <td>0</td>\n",
       "      <td>0</td>\n",
       "      <td>0</td>\n",
       "      <td>0</td>\n",
       "      <td>0</td>\n",
       "      <td>0</td>\n",
       "      <td>...</td>\n",
       "      <td>0</td>\n",
       "      <td>0</td>\n",
       "      <td>0</td>\n",
       "      <td>0</td>\n",
       "      <td>0</td>\n",
       "      <td>0</td>\n",
       "      <td>0</td>\n",
       "      <td>0</td>\n",
       "      <td>0</td>\n",
       "      <td>0</td>\n",
       "    </tr>\n",
       "    <tr>\n",
       "      <th>36206</th>\n",
       "      <td>0</td>\n",
       "      <td>0</td>\n",
       "      <td>0</td>\n",
       "      <td>0</td>\n",
       "      <td>0</td>\n",
       "      <td>0</td>\n",
       "      <td>0</td>\n",
       "      <td>0</td>\n",
       "      <td>0</td>\n",
       "      <td>0</td>\n",
       "      <td>...</td>\n",
       "      <td>0</td>\n",
       "      <td>0</td>\n",
       "      <td>0</td>\n",
       "      <td>0</td>\n",
       "      <td>0</td>\n",
       "      <td>0</td>\n",
       "      <td>0</td>\n",
       "      <td>0</td>\n",
       "      <td>0</td>\n",
       "      <td>0</td>\n",
       "    </tr>\n",
       "    <tr>\n",
       "      <th>36207</th>\n",
       "      <td>0</td>\n",
       "      <td>0</td>\n",
       "      <td>0</td>\n",
       "      <td>0</td>\n",
       "      <td>0</td>\n",
       "      <td>0</td>\n",
       "      <td>0</td>\n",
       "      <td>0</td>\n",
       "      <td>0</td>\n",
       "      <td>0</td>\n",
       "      <td>...</td>\n",
       "      <td>0</td>\n",
       "      <td>0</td>\n",
       "      <td>0</td>\n",
       "      <td>0</td>\n",
       "      <td>0</td>\n",
       "      <td>0</td>\n",
       "      <td>0</td>\n",
       "      <td>0</td>\n",
       "      <td>0</td>\n",
       "      <td>0</td>\n",
       "    </tr>\n",
       "    <tr>\n",
       "      <th>36208</th>\n",
       "      <td>0</td>\n",
       "      <td>0</td>\n",
       "      <td>0</td>\n",
       "      <td>0</td>\n",
       "      <td>0</td>\n",
       "      <td>0</td>\n",
       "      <td>0</td>\n",
       "      <td>0</td>\n",
       "      <td>0</td>\n",
       "      <td>0</td>\n",
       "      <td>...</td>\n",
       "      <td>0</td>\n",
       "      <td>0</td>\n",
       "      <td>0</td>\n",
       "      <td>0</td>\n",
       "      <td>0</td>\n",
       "      <td>0</td>\n",
       "      <td>0</td>\n",
       "      <td>0</td>\n",
       "      <td>0</td>\n",
       "      <td>0</td>\n",
       "    </tr>\n",
       "  </tbody>\n",
       "</table>\n",
       "<p>36209 rows × 6651 columns</p>\n",
       "</div>"
      ],
      "text/plain": [
       "       AAC  AAL  AAR  AAS  AÀS  AÀ-  ABA  ABB  ABE  ABÉ  ...  -YO  -YR  -YT  \\\n",
       "0        0    0    0    0    0    0    0    0    1    0  ...    0    0    0   \n",
       "1        0    0    0    0    0    0    0    0    1    0  ...    0    0    0   \n",
       "2        0    0    0    0    0    0    0    0    0    0  ...    0    0    0   \n",
       "3        0    0    0    0    0    0    0    0    0    0  ...    0    0    0   \n",
       "4        0    0    0    0    0    0    0    0    0    0  ...    0    0    0   \n",
       "...    ...  ...  ...  ...  ...  ...  ...  ...  ...  ...  ...  ...  ...  ...   \n",
       "36204    0    0    0    0    0    0    0    0    0    0  ...    0    0    0   \n",
       "36205    0    0    0    0    0    0    0    0    0    0  ...    0    0    0   \n",
       "36206    0    0    0    0    0    0    0    0    0    0  ...    0    0    0   \n",
       "36207    0    0    0    0    0    0    0    0    0    0  ...    0    0    0   \n",
       "36208    0    0    0    0    0    0    0    0    0    0  ...    0    0    0   \n",
       "\n",
       "       -YV  -YY  -YZ  -ZA  -ZI  -ZO  -ZU  \n",
       "0        0    0    0    0    0    0    0  \n",
       "1        0    0    0    0    0    0    0  \n",
       "2        0    0    0    0    0    0    0  \n",
       "3        0    0    0    0    0    0    0  \n",
       "4        0    0    0    0    0    0    0  \n",
       "...    ...  ...  ...  ...  ...  ...  ...  \n",
       "36204    0    0    0    0    0    0    0  \n",
       "36205    0    0    0    0    0    0    0  \n",
       "36206    0    0    0    0    0    0    0  \n",
       "36207    0    0    0    0    0    0    0  \n",
       "36208    0    0    0    0    0    0    0  \n",
       "\n",
       "[36209 rows x 6651 columns]"
      ]
     },
     "execution_count": 12,
     "metadata": {},
     "output_type": "execute_result"
    }
   ],
   "source": [
    "df_letterstri = pd.read_csv(\n",
    "    \"trigramme_matrix.csv\", index_col=0)\n",
    "df_letterstri"
   ]
  },
  {
   "cell_type": "markdown",
   "metadata": {},
   "source": [
    "## Ridge bigrammes"
   ]
  },
  {
   "cell_type": "code",
   "execution_count": 88,
   "metadata": {},
   "outputs": [],
   "source": [
    "X = pd.concat([df_letters, df_lettersbi], axis=\"columns\") #pour les bigrammes"
   ]
  },
  {
   "cell_type": "code",
   "execution_count": 89,
   "metadata": {},
   "outputs": [],
   "source": [
    "X_train, X_test, y_train, y_test = train_test_split(X, y, test_size=0.2, random_state=0)"
   ]
  },
  {
   "cell_type": "code",
   "execution_count": 90,
   "metadata": {},
   "outputs": [],
   "source": [
    "import sklearn.linear_model as sklin\n",
    "#optimisation du lambda\n",
    "alphas = np.logspace(-3,8,20)\n",
    "ridgeCV = sklin.RidgeCV(alphas = alphas, store_cv_values=True)\n",
    "ridgeCV.fit(X_train, y_train)\n",
    "mse_ridgeCV = ridgeCV.cv_values_.mean(axis = 0)"
   ]
  },
  {
   "cell_type": "code",
   "execution_count": 91,
   "metadata": {},
   "outputs": [
    {
     "data": {
      "text/plain": [
       "Text(0.5, 1.0, 'MSE for RidgeCV as a function of lambda')"
      ]
     },
     "execution_count": 91,
     "metadata": {},
     "output_type": "execute_result"
    },
    {
     "data": {
      "image/png": "[encoded data removed]",
      "text/plain": [
       "<Figure size 432x288 with 1 Axes>"
      ]
     },
     "metadata": {},
     "output_type": "display_data"
    }
   ],
   "source": [
    "import matplotlib.pyplot as plt\n",
    "\n",
    "fig, ax = plt.subplots()\n",
    "ax.plot(np.log(alphas)/np.log(10), mse_ridgeCV)\n",
    "ax.axvline((np.log(alphas)/np.log(10))[np.argmin(mse_ridgeCV)], ls = '--', c = 'grey')\n",
    "ax.set_xlabel('log(lambda)')\n",
    "ax.set_ylabel('mse')\n",
    "ax.set_title('MSE for RidgeCV as a function of lambda')"
   ]
  },
  {
   "cell_type": "code",
   "execution_count": 92,
   "metadata": {},
   "outputs": [
    {
     "name": "stdout",
     "output_type": "stream",
     "text": [
      "2.9763514416313193\n"
     ]
    }
   ],
   "source": [
    "print(ridgeCV.alpha_) #lambda optimal pour Ridge"
   ]
  },
  {
   "cell_type": "code",
   "execution_count": 93,
   "metadata": {
    "scrolled": true
   },
   "outputs": [
    {
     "name": "stdout",
     "output_type": "stream",
     "text": [
      "3.233426338417277\n",
      "0.31051183788327397\n"
     ]
    }
   ],
   "source": [
    "linridge = sklin.Ridge(alpha=2.976).fit(X_train, y_train)\n",
    "y_pred= linridge.predict(X_test)\n",
    "print(mse(y_pred,y_test))\n",
    "print(linridge.score(X_test,y_test))"
   ]
  },
  {
   "cell_type": "code",
   "execution_count": 94,
   "metadata": {},
   "outputs": [
    {
     "name": "stdout",
     "output_type": "stream",
     "text": [
      "[49.96304322]\n"
     ]
    }
   ],
   "source": [
    "Xcommune = from_word_to_vect('Triffouillis-les-Oies',list(df_letters))\n",
    "Xcommune[-1] = len('Triffouillis-les-Oies')\n",
    "Xcommune = Xcommune + from_word_to_vect('Triffouillis-les-Oies',list(df_lettersbi))\n",
    "Xcommune = np.array([Xcommune])\n",
    "latitude=linridge.predict(Xcommune)\n",
    "print(latitude)"
   ]
  },
  {
   "cell_type": "markdown",
   "metadata": {},
   "source": [
    "## Lasso bigrammes"
   ]
  },
  {
   "cell_type": "code",
   "execution_count": 95,
   "metadata": {},
   "outputs": [],
   "source": [
    "alphas = np.array([0.01,1,10])"
   ]
  },
  {
   "cell_type": "code",
   "execution_count": 96,
   "metadata": {
    "scrolled": true
   },
   "outputs": [
    {
     "data": {
      "text/plain": [
       "\"\\ntentative d'une validation croisée pour Lasso\\nlassoCV = sklin.LassoCV(alphas = alphas, cv = len(y_train))\\nlassoCV.fit(X_train,y_train)\\nmse_lassoCV = lassoCV.mse_path_.mean(axis = 1)[::-1]\\nfig, ax = plt.subplots()\\nax.plot(alphas, mse_lassoCV)\\nax.axvline(alphas[np.argmin(mse_lassoCV)], ls = '--', c = 'grey')\\nax.set_xlabel('lambda')\\nax.set_ylabel('mse')\\nax.set_title('MSE for LassoCV as a function of lambda')\\n\""
      ]
     },
     "execution_count": 96,
     "metadata": {},
     "output_type": "execute_result"
    }
   ],
   "source": [
    "'''\n",
    "tentative d'une validation croisée pour Lasso\n",
    "lassoCV = sklin.LassoCV(alphas = alphas, cv = len(y_train))\n",
    "lassoCV.fit(X_train,y_train)\n",
    "mse_lassoCV = lassoCV.mse_path_.mean(axis = 1)[::-1]\n",
    "fig, ax = plt.subplots()\n",
    "ax.plot(alphas, mse_lassoCV)\n",
    "ax.axvline(alphas[np.argmin(mse_lassoCV)], ls = '--', c = 'grey')\n",
    "ax.set_xlabel('lambda')\n",
    "ax.set_ylabel('mse')\n",
    "ax.set_title('MSE for LassoCV as a function of lambda')\n",
    "'''\n"
   ]
  },
  {
   "cell_type": "code",
   "execution_count": 97,
   "metadata": {},
   "outputs": [
    {
     "name": "stderr",
     "output_type": "stream",
     "text": [
      "C:\\Users\\julie\\AppData\\Roaming\\Python\\Python36\\site-packages\\sklearn\\linear_model\\_coordinate_descent.py:532: ConvergenceWarning: Objective did not converge. You might want to increase the number of iterations. Duality gap: 60.0794235196372, tolerance: 13.638582760256206\n",
      "  positive)\n"
     ]
    }
   ],
   "source": [
    "from sklearn.linear_model import Lasso\n",
    "linlasso = Lasso(alpha=0.001).fit(X_train, y_train)"
   ]
  },
  {
   "cell_type": "code",
   "execution_count": 98,
   "metadata": {},
   "outputs": [
    {
     "name": "stdout",
     "output_type": "stream",
     "text": [
      "3.3255953784097407\n",
      "0.29085793043734975\n"
     ]
    }
   ],
   "source": [
    "y_pred= linlasso.predict(X_test)\n",
    "print(mse(y_pred,y_test))\n",
    "print(linlasso.score(X_test,y_test))"
   ]
  },
  {
   "cell_type": "code",
   "execution_count": 99,
   "metadata": {},
   "outputs": [
    {
     "name": "stdout",
     "output_type": "stream",
     "text": [
      "[49.77131858]\n"
     ]
    }
   ],
   "source": [
    "latitude=linlasso.predict(Xcommune)\n",
    "print(latitude)"
   ]
  },
  {
   "cell_type": "markdown",
   "metadata": {},
   "source": [
    "## Ridge trigrammes"
   ]
  },
  {
   "cell_type": "code",
   "execution_count": 14,
   "metadata": {},
   "outputs": [],
   "source": [
    "X = pd.concat([df_letters, df_lettersbi, df_letterstri], axis=\"columns\") # matrices des covariables monogrammes + bigrammes + trigrammes\n",
    "X_train, X_test, y_train, y_test = train_test_split(X, y, test_size=0.2, random_state=0)"
   ]
  },
  {
   "cell_type": "code",
   "execution_count": 15,
   "metadata": {},
   "outputs": [
    {
     "name": "stdout",
     "output_type": "stream",
     "text": [
      "7437\n"
     ]
    }
   ],
   "source": [
    "Xcommune = from_word_to_vect('Triffouillis-les-Oies',list(df_letters))\n",
    "Xcommune[-1] = len('Triffouillis-les-Oies')\n",
    "Xcommune = Xcommune + from_word_to_vect('Triffouillis-les-Oies',list(df_lettersbi)) + from_word_to_vect('Triffouillis-les-Oies',list(df_letterstri))\n",
    "Xcommune = np.array([Xcommune])#x0 de Triffouillis-les-Oies avec les covariables monogrammes + bigrammes + trigrammes\n",
    "print(len(Xcommune[0]))"
   ]
  },
  {
   "cell_type": "code",
   "execution_count": 16,
   "metadata": {},
   "outputs": [],
   "source": [
    "#optimisation du lambda par validation croisée pour Ridge\n",
    "import sklearn.linear_model as sklin\n",
    "alphas = np.array([6,7,8,9,10])\n",
    "ridgeCV = sklin.RidgeCV(alphas = alphas, store_cv_values=True)\n",
    "ridgeCV.fit(X_train, y_train)\n",
    "mse_ridgeCV = ridgeCV.cv_values_.mean(axis = 0)"
   ]
  },
  {
   "cell_type": "code",
   "execution_count": 17,
   "metadata": {},
   "outputs": [
    {
     "data": {
      "text/plain": [
       "Text(0.5, 1.0, 'MSE for RidgeCV as a function of lambda')"
      ]
     },
     "execution_count": 17,
     "metadata": {},
     "output_type": "execute_result"
    },
    {
     "data": {
      "image/png": "[encoded data removed]",
      "text/plain": [
       "<Figure size 432x288 with 1 Axes>"
      ]
     },
     "metadata": {},
     "output_type": "display_data"
    }
   ],
   "source": [
    "import matplotlib.pyplot as plt\n",
    "\n",
    "fig, ax = plt.subplots()\n",
    "ax.plot(alphas, mse_ridgeCV)\n",
    "ax.axvline((np.log(alphas)/np.log(10))[np.argmin(mse_ridgeCV)], ls = '--', c = 'grey')\n",
    "ax.set_xlabel('lambda')\n",
    "ax.set_ylabel('mse')\n",
    "ax.set_title('MSE for RidgeCV as a function of lambda')"
   ]
  },
  {
   "cell_type": "code",
   "execution_count": 21,
   "metadata": {},
   "outputs": [
    {
     "name": "stdout",
     "output_type": "stream",
     "text": [
      "9\n"
     ]
    }
   ],
   "source": [
    "print(ridgeCV.alpha_) #lambda optimal pour Ridge"
   ]
  },
  {
   "cell_type": "code",
   "execution_count": 22,
   "metadata": {},
   "outputs": [
    {
     "name": "stdout",
     "output_type": "stream",
     "text": [
      "2.755532730218082\n",
      "0.41241673724333827\n"
     ]
    }
   ],
   "source": [
    "linridge = sklin.Ridge(alpha=9).fit(X_train, y_train)\n",
    "y_pred= linridge.predict(X_test)\n",
    "print(mse(y_pred,y_test))\n",
    "print(linridge.score(X_test,y_test))"
   ]
  },
  {
   "cell_type": "code",
   "execution_count": 23,
   "metadata": {},
   "outputs": [
    {
     "name": "stdout",
     "output_type": "stream",
     "text": [
      "[48.3477663]\n"
     ]
    }
   ],
   "source": [
    "latitude=linridge.predict(Xcommune)\n",
    "print(latitude)"
   ]
  },
  {
   "cell_type": "markdown",
   "metadata": {},
   "source": [
    "## Lasso trigrammes"
   ]
  },
  {
   "cell_type": "code",
   "execution_count": 19,
   "metadata": {},
   "outputs": [
    {
     "name": "stderr",
     "output_type": "stream",
     "text": [
      "C:\\Users\\julie\\AppData\\Roaming\\Python\\Python36\\site-packages\\sklearn\\linear_model\\_coordinate_descent.py:532: ConvergenceWarning: Objective did not converge. You might want to increase the number of iterations. Duality gap: 38.014397281745914, tolerance: 13.638582760256206\n",
      "  positive)\n"
     ]
    },
    {
     "name": "stdout",
     "output_type": "stream",
     "text": [
      "2.9815428242044066\n",
      "0.364222880939583\n"
     ]
    }
   ],
   "source": [
    "from sklearn.linear_model import Lasso\n",
    "linlasso = Lasso(alpha=0.001).fit(X_train, y_train)\n",
    "y_pred= linlasso.predict(X_test)\n",
    "print(mse(y_pred,y_test))\n",
    "print(linlasso.score(X_test,y_test))"
   ]
  },
  {
   "cell_type": "code",
   "execution_count": 20,
   "metadata": {},
   "outputs": [
    {
     "name": "stdout",
     "output_type": "stream",
     "text": [
      "[49.55459719]\n"
     ]
    }
   ],
   "source": [
    "latitude=linlasso.predict(Xcommune)\n",
    "print(latitude)"
   ]
  },
  {
   "cell_type": "markdown",
   "metadata": {},
   "source": [
    "## Random forest"
   ]
  },
  {
   "cell_type": "code",
   "execution_count": 21,
   "metadata": {},
   "outputs": [],
   "source": [
    "X = pd.concat([df_letters, df_lettersbi, df_letterstri], axis=\"columns\") #pour les monogrammes+bigrammes+trigrammes\n",
    "X_train, X_test, y_train, y_test = train_test_split(X, y, test_size=0.2, random_state=0)"
   ]
  },
  {
   "cell_type": "code",
   "execution_count": 51,
   "metadata": {},
   "outputs": [],
   "source": [
    "#Validation croisée pour Random forest\n",
    "'''\n",
    "from sklearn.ensemble import RandomForestRegressor\n",
    "\n",
    "from sklearn.model_selection import GridSearchCV\n",
    "# Create the parameter grid based on the results of random search \n",
    "param_grid = {\n",
    "    'bootstrap': [True],\n",
    "    'max_depth': [80, 110],\n",
    "    'n_estimators': [100]\n",
    "}\n",
    "# Create a based model\n",
    "rf = RandomForestRegressor()\n",
    "# Instantiate the grid search model\n",
    "grid_search = GridSearchCV(estimator = rf, param_grid = param_grid, \n",
    "                          cv = 3, n_jobs = -1, verbose = 2)\n",
    "\n",
    "# Fit the grid search to the data\n",
    "grid_search.fit(X_train, y_train)\n",
    "grid_search.best_params_\n",
    "'''"
   ]
  },
  {
   "cell_type": "code",
   "execution_count": 22,
   "metadata": {},
   "outputs": [
    {
     "name": "stdout",
     "output_type": "stream",
     "text": [
      "0.8872570327659103 0.38157147642171396\n"
     ]
    }
   ],
   "source": [
    "from sklearn.ensemble import RandomForestRegressor\n",
    "\n",
    "Rf = RandomForestRegressor(bootstrap= True,\n",
    " n_estimators= 30, #nombre d'arbres\n",
    ")\n",
    "Rf.fit(X_train, y_train)\n",
    "print(Rf.score(X_train, y_train),Rf.score(X_test, y_test))\n",
    "# on observe bien un surapprentissage "
   ]
  },
  {
   "cell_type": "code",
   "execution_count": 23,
   "metadata": {},
   "outputs": [
    {
     "name": "stdout",
     "output_type": "stream",
     "text": [
      "2.9001847840688715\n"
     ]
    }
   ],
   "source": [
    "y_pred= Rf.predict(X_test)\n",
    "print(mse(y_pred,y_test))"
   ]
  },
  {
   "cell_type": "code",
   "execution_count": 24,
   "metadata": {},
   "outputs": [
    {
     "name": "stdout",
     "output_type": "stream",
     "text": [
      "[49.55459719]\n"
     ]
    }
   ],
   "source": [
    "latitude=linlasso.predict(Xcommune)\n",
    "print(latitude)"
   ]
  },
  {
   "cell_type": "markdown",
   "metadata": {},
   "source": [
    "## PCA sur les bigrammes"
   ]
  },
  {
   "cell_type": "code",
   "execution_count": 64,
   "metadata": {},
   "outputs": [],
   "source": [
    "#On effectue on PCA\n",
    "from sklearn.linear_model import LinearRegression\n",
    "from scipy.signal import savgol_filter\n",
    "from sklearn.decomposition import PCA\n",
    "from sklearn.preprocessing import StandardScaler\n",
    "from sklearn import linear_model\n",
    "from sklearn.model_selection import cross_val_predict\n",
    "from sklearn.metrics import mean_squared_error, r2_score"
   ]
  },
  {
   "cell_type": "code",
   "execution_count": 99,
   "metadata": {},
   "outputs": [],
   "source": [
    "# Define the PCA object\n",
    "pca = PCA()\n",
    "\n",
    "# Preprocess (2) Standardize features by removing the mean and scaling to unit variance\n",
    "Xstd = StandardScaler().fit_transform(X)\n",
    "\n",
    "# Run PCA producing the reduced variable Xreg and select the first pc components\n",
    "Xreg = pca.fit_transform(Xstd)[:,:500]\n",
    "\n",
    "#print(pca.explained_variance_/sum(pca.explained_variance_)*100)"
   ]
  },
  {
   "cell_type": "code",
   "execution_count": 77,
   "metadata": {},
   "outputs": [],
   "source": [
    "cumvar=np.cumsum(pca.explained_variance_/sum(pca.explained_variance_)*100)"
   ]
  },
  {
   "cell_type": "code",
   "execution_count": 78,
   "metadata": {},
   "outputs": [
    {
     "data": {
      "image/png": "[encoded data removed]",
      "text/plain": [
       "<Figure size 432x288 with 1 Axes>"
      ]
     },
     "metadata": {},
     "output_type": "display_data"
    }
   ],
   "source": [
    "import matplotlib.pyplot as plt\n",
    "plt.plot(np.arange(1,787),cumvar)\n",
    "plt.title(\"Explained variance vs. # of factors\")\n",
    "plt.ylabel(\"Cumsum explained variance ratio\")\n",
    "plt.xlabel(\"Factor number\")\n",
    "plt.show()"
   ]
  },
  {
   "cell_type": "code",
   "execution_count": 100,
   "metadata": {},
   "outputs": [],
   "source": [
    "from sklearn.model_selection import train_test_split\n",
    "X_trainACP, X_testACP, y_trainACP, y_testACP = train_test_split(Xreg, y, test_size=0.2, random_state=0)"
   ]
  },
  {
   "cell_type": "code",
   "execution_count": 101,
   "metadata": {},
   "outputs": [
    {
     "data": {
      "text/plain": [
       "LinearRegression()"
      ]
     },
     "execution_count": 101,
     "metadata": {},
     "output_type": "execute_result"
    }
   ],
   "source": [
    "from sklearn.linear_model import LinearRegression\n",
    "regressor = LinearRegression()\n",
    "regressor.fit(X_trainACP, y_trainACP)"
   ]
  },
  {
   "cell_type": "code",
   "execution_count": 102,
   "metadata": {},
   "outputs": [
    {
     "data": {
      "text/plain": [
       "0.21233356249546476"
      ]
     },
     "execution_count": 102,
     "metadata": {},
     "output_type": "execute_result"
    }
   ],
   "source": [
    "regressor.score(X_testACP, y_testACP)"
   ]
  },
  {
   "cell_type": "code",
   "execution_count": 104,
   "metadata": {},
   "outputs": [
    {
     "name": "stdout",
     "output_type": "stream",
     "text": [
      "3.693843556495032\n"
     ]
    }
   ],
   "source": [
    "y_pred= regressor.predict(X_testACP)\n",
    "print(mse(y_pred,y_test))"
   ]
  },
  {
   "cell_type": "code",
   "execution_count": 82,
   "metadata": {},
   "outputs": [
    {
     "name": "stdout",
     "output_type": "stream",
     "text": [
      "47.02081037889455\n",
      "count    36209.000000\n",
      "mean        47.023851\n",
      "std          2.169044\n",
      "min         42.361389\n",
      "25%         45.246666\n",
      "50%         47.434723\n",
      "75%         48.846943\n",
      "max         51.073891\n",
      "Name: latitude, dtype: float64\n"
     ]
    }
   ],
   "source": [
    "print(regressor.intercept_)\n",
    "print(y.describe())"
   ]
  },
  {
   "cell_type": "code",
   "execution_count": 84,
   "metadata": {},
   "outputs": [
    {
     "data": {
      "text/plain": [
       "array([[1.       , 0.2434371],\n",
       "       [0.2434371, 1.       ]])"
      ]
     },
     "execution_count": 84,
     "metadata": {},
     "output_type": "execute_result"
    }
   ],
   "source": [
    "y_predACP = regressor.predict(X_testACP)\n",
    "np.corrcoef(y_testACP, regressor.predict(X_testACP))**2"
   ]
  },
  {
   "cell_type": "code",
   "execution_count": 85,
   "metadata": {},
   "outputs": [
    {
     "data": {
      "text/html": [
       "<div>\n",
       "<style scoped>\n",
       "    .dataframe tbody tr th:only-of-type {\n",
       "        vertical-align: middle;\n",
       "    }\n",
       "\n",
       "    .dataframe tbody tr th {\n",
       "        vertical-align: top;\n",
       "    }\n",
       "\n",
       "    .dataframe thead th {\n",
       "        text-align: right;\n",
       "    }\n",
       "</style>\n",
       "<table border=\"1\" class=\"dataframe\">\n",
       "  <thead>\n",
       "    <tr style=\"text-align: right;\">\n",
       "      <th></th>\n",
       "      <th>Actual</th>\n",
       "      <th>Predicted</th>\n",
       "    </tr>\n",
       "  </thead>\n",
       "  <tbody>\n",
       "    <tr>\n",
       "      <th>23666</th>\n",
       "      <td>49.614723</td>\n",
       "      <td>47.045053</td>\n",
       "    </tr>\n",
       "    <tr>\n",
       "      <th>9210</th>\n",
       "      <td>47.433613</td>\n",
       "      <td>46.147569</td>\n",
       "    </tr>\n",
       "    <tr>\n",
       "      <th>27837</th>\n",
       "      <td>47.788334</td>\n",
       "      <td>48.589403</td>\n",
       "    </tr>\n",
       "    <tr>\n",
       "      <th>8312</th>\n",
       "      <td>45.304443</td>\n",
       "      <td>47.230062</td>\n",
       "    </tr>\n",
       "    <tr>\n",
       "      <th>23308</th>\n",
       "      <td>50.701942</td>\n",
       "      <td>48.145406</td>\n",
       "    </tr>\n",
       "    <tr>\n",
       "      <th>...</th>\n",
       "      <td>...</td>\n",
       "      <td>...</td>\n",
       "    </tr>\n",
       "    <tr>\n",
       "      <th>19925</th>\n",
       "      <td>48.461388</td>\n",
       "      <td>51.846430</td>\n",
       "    </tr>\n",
       "    <tr>\n",
       "      <th>16011</th>\n",
       "      <td>47.756943</td>\n",
       "      <td>47.810023</td>\n",
       "    </tr>\n",
       "    <tr>\n",
       "      <th>3060</th>\n",
       "      <td>42.981667</td>\n",
       "      <td>46.152971</td>\n",
       "    </tr>\n",
       "    <tr>\n",
       "      <th>17758</th>\n",
       "      <td>44.475277</td>\n",
       "      <td>46.562113</td>\n",
       "    </tr>\n",
       "    <tr>\n",
       "      <th>25530</th>\n",
       "      <td>45.790558</td>\n",
       "      <td>47.443774</td>\n",
       "    </tr>\n",
       "  </tbody>\n",
       "</table>\n",
       "<p>7242 rows × 2 columns</p>\n",
       "</div>"
      ],
      "text/plain": [
       "          Actual  Predicted\n",
       "23666  49.614723  47.045053\n",
       "9210   47.433613  46.147569\n",
       "27837  47.788334  48.589403\n",
       "8312   45.304443  47.230062\n",
       "23308  50.701942  48.145406\n",
       "...          ...        ...\n",
       "19925  48.461388  51.846430\n",
       "16011  47.756943  47.810023\n",
       "3060   42.981667  46.152971\n",
       "17758  44.475277  46.562113\n",
       "25530  45.790558  47.443774\n",
       "\n",
       "[7242 rows x 2 columns]"
      ]
     },
     "execution_count": 85,
     "metadata": {},
     "output_type": "execute_result"
    }
   ],
   "source": [
    "df_test = pd.DataFrame({'Actual': y_testACP, 'Predicted': y_predACP})\n",
    "df_test"
   ]
  },
  {
   "cell_type": "code",
   "execution_count": 109,
   "metadata": {},
   "outputs": [
    {
     "data": {
      "text/plain": [
       "23666    49.614723\n",
       "9210     47.433613\n",
       "27837    47.788334\n",
       "8312     45.304443\n",
       "23308    50.701942\n",
       "           ...    \n",
       "19925    48.461388\n",
       "16011    47.756943\n",
       "3060     42.981667\n",
       "17758    44.475277\n",
       "25530    45.790558\n",
       "Name: latitude, Length: 7242, dtype: float64"
      ]
     },
     "execution_count": 109,
     "metadata": {},
     "output_type": "execute_result"
    }
   ],
   "source": [
    "y_testACP"
   ]
  },
  {
   "cell_type": "code",
   "execution_count": 86,
   "metadata": {},
   "outputs": [
    {
     "name": "stdout",
     "output_type": "stream",
     "text": [
      "Mean Absolute Error: 1.552902904690942\n",
      "Mean Squared Error: 3.548218418644826\n",
      "Root Mean Squared Error: 1.8836715262074823\n"
     ]
    }
   ],
   "source": [
    "from sklearn import metrics\n",
    "print('Mean Absolute Error:', metrics.mean_absolute_error(y_testACP, y_predACP))\n",
    "print('Mean Squared Error:', metrics.mean_squared_error(y_testACP, y_predACP))\n",
    "print('Root Mean Squared Error:', np.sqrt(metrics.mean_squared_error(y_testACP, y_predACP)))"
   ]
  },
  {
   "cell_type": "code",
   "execution_count": 105,
   "metadata": {},
   "outputs": [
    {
     "data": {
      "text/plain": [
       "'kingersheim'"
      ]
     },
     "execution_count": 105,
     "metadata": {},
     "output_type": "execute_result"
    }
   ],
   "source": [
    "df[\"nom\"][27837]"
   ]
  },
  {
   "cell_type": "code",
   "execution_count": 106,
   "metadata": {},
   "outputs": [
    {
     "data": {
      "text/html": [
       "<div style=\"width:100%;\"><div style=\"position:relative;width:100%;height:0;padding-bottom:60%;\"><span style=\"color:#565656\">Make this Notebook Trusted to load map: File -> Trust Notebook</span><iframe src=\"about:blank\" style=\"position:absolute;width:100%;height:100%;left:0;top:0;border:none !important;\" data-html=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 onload=\"this.contentDocument.open();this.contentDocument.write(atob(this.getAttribute('data-html')));this.contentDocument.close();\" allowfullscreen webkitallowfullscreen mozallowfullscreen></iframe></div></div>"
      ],
      "text/plain": [
       "<folium.folium.Map at 0x11129f0b7b8>"
      ]
     },
     "execution_count": 106,
     "metadata": {},
     "output_type": "execute_result"
    }
   ],
   "source": [
    "#Code utiliser pour obtenir les cartes avec la prédiction et son intervalle de prédiction\n",
    "\n",
    "france = folium.Map(location=[46.856578,2.351828], zoom_start=6)\n",
    "folium.Marker([47.788334, 7.334444], \"X\").add_to(france)\n",
    "folium.Marker([48.589403, 8.107961], \"X\").add_to(france)\n",
    "\n",
    "france"
   ]
  }
 ],
 "metadata": {
  "kernelspec": {
   "display_name": "Python 3",
   "language": "python",
   "name": "python3"
  },
  "language_info": {
   "codemirror_mode": {
    "name": "ipython",
    "version": 3
   },
   "file_extension": ".py",
   "mimetype": "text/x-python",
   "name": "python",
   "nbconvert_exporter": "python",
   "pygments_lexer": "ipython3",
   "version": "3.7.6"
  }
 },
 "nbformat": 4,
 "nbformat_minor": 2
}
